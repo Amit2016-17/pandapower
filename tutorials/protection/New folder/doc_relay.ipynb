{
 "cells": [
  {
   "cell_type": "markdown",
   "metadata": {},
   "source": [
    "# Directional Over Current Relay (DOC relay)\n",
    "\n",
    "Pandapower supports running protection scenario using Definite Time Over Current Relay with directional features in radial and meshed networks. It supports both the automated time grading plan based on grid searches and manual tripping times similar to OC relay. "
   ]
  },
  {
   "cell_type": "markdown",
   "metadata": {},
   "source": [
    "### Example Network\n",
    "\n",
    "Here is a example for creating a protection scenario using the directional over current relay . First, we create a meshed network with 4 buses and 5 switches. The switch is type defined as 'CB_dir' for running protection scenario using directional over current relay."
   ]
  },
  {
   "cell_type": "code",
   "execution_count": 1,
   "metadata": {},
   "outputs": [],
   "source": [
    "\n",
    "def doc_relay_net(open_loop = False):\n",
    "    import pandapower as pp\n",
    "    \n",
    "    #create an empty network\n",
    "    net = pp.create_empty_network()\n",
    "    \n",
    "    # define buses\n",
    "    bus0 = pp.create_bus(net,name = \"Bus_extgrid\", vn_kv = 20, type = \"b\")\n",
    "    bus1 = pp.create_bus(net,name = \"Bus_line1\", vn_kv = 20, type = \"b\")\n",
    "    bus2 = pp.create_bus(net,name = \"Bus_load\", vn_kv = 20, type = \"b\")\n",
    "    bus3 = pp.create_bus(net,name = \"Bus_line2\", vn_kv = 20, type = \"b\")\n",
    "    \n",
    "    # external grids\n",
    "    pp.create_ext_grid(net, bus0, vm_pu = 1.0, va_degree = 0, s_sc_max_mva = 100, s_sc_min_mva = 50,\n",
    "                                           rx_max = 0.1, rx_min = 0.1)\n",
    "    # defne lines\n",
    "    line1 = pp.create_line_from_parameters(net, bus0, bus1, length_km = 5, index = 1, r_ohm_per_km = 0.169,\n",
    "                                           x_ohm_per_km = 0.118438, c_nf_per_km = 273, max_i_ka = 0.361)\n",
    "    line2 = pp.create_line_from_parameters(net, bus1, bus2, length_km = 4, index = 2, r_ohm_per_km = 0.256,\n",
    "                                           x_ohm_per_km = 0.126606, c_nf_per_km = 235, max_i_ka = 0.286)\n",
    "    line3 = pp.create_line_from_parameters(net, bus1, bus3, length_km = 4, index = 3, r_ohm_per_km = 0.256,\n",
    "                                           x_ohm_per_km = 0.126606, c_nf_per_km = 235, max_i_ka = 0.286)\n",
    "    line4 = pp.create_line_from_parameters(net, bus3, bus2, length_km = 0.5, index =4, r_ohm_per_km = 0.256,\n",
    "                                           x_ohm_per_km = 0.126606, c_nf_per_km = 235, max_i_ka = 0.286)\n",
    "    \n",
    "    # define short-circuit end temperature of the line\n",
    "    net.line[\"endtemp_degree\"] = 250\n",
    "    \n",
    "    #switches\n",
    "    sw1 = pp.create_switch(net, bus0, line1, et=\"l\", type = \"CB_dir\", closed = True, index = 0)\n",
    "    sw2 = pp.create_switch(net, bus1, line2, et=\"l\", type = \"CB_dir\", closed = True, index = 1)\n",
    "    sw3 = pp.create_switch(net, bus1, line3, et=\"l\", type = \"CB_dir\", closed = True, index = 2)\n",
    "    if open_loop:\n",
    "        sw4 = pp.create_switch(net, bus2, line4, et=\"l\", type = \"CB_dir\", closed = False, index = 3)\n",
    "        sw5 = pp.create_switch(net, bus3, line4, et=\"l\", type = \"CB_dir\", closed = False, index = 4)\n",
    "    else:\n",
    "        sw4 = pp.create_switch(net, bus2, line4, et=\"l\", type = \"CB_dir\", closed = True, index = 3)\n",
    "        sw5 = pp.create_switch(net, bus3, line4, et=\"l\", type = \"CB_dir\", closed = True, index = 4)\n",
    "        \n",
    "    # define load\n",
    "    pp.create_load(net, bus2, p_mw = 5, q_mvar= 0, scaling = 1, name=\"load 1\")\n",
    "    \n",
    "    # initialise geo coordinates\n",
    "    net.bus_geodata.loc[0] = None\n",
    "    net.bus_geodata.loc[1] = None\n",
    "    net.bus_geodata.loc[2] = None\n",
    "    net.bus_geodata.loc[3] = None\n",
    "    \n",
    "    # define geo coordinates for better visualisation in plotting\n",
    "    net.bus_geodata.x.at[0] = 0\n",
    "    net.bus_geodata.x.at[1] = 0\n",
    "    net.bus_geodata.x.at[2] = -1\n",
    "    net.bus_geodata.x.at[3] = 1\n",
    "    net.bus_geodata.y.at[0] = 1\n",
    "    net.bus_geodata.y.at[1] = 0\n",
    "    net.bus_geodata.y.at[2] = -1\n",
    "    net.bus_geodata.y.at[3] = -1\n",
    "    return net"
   ]
  },
  {
   "cell_type": "markdown",
   "metadata": {},
   "source": [
    "## Import DOC Protection Module\n",
    "\n",
    "Required inputs\n",
    "* 1) net: (pandapowerNet) - Pandapower network with switch type as \"CB_non_dir\" in net.switch.type\n",
    "* 2) sc_line_id (int, index): Index of the line to create the short circuit\n",
    "* 3) sc_location (float): Location of short circuit on the on line (between 0 and 1).\n",
    "* 4) tripping_time_auto (list, float) - Relay tripping time calculated based on topological grid search.\n",
    "        - tripping_time_auto =[t>>, t>,t_diff]\n",
    "        - t>>(t_gg): instantaneous tripping time in seconds,\n",
    "        - t>(t_g):  primary backup tripping time in seconds, \n",
    "        - t_diff: time grading delay difference in seconds\n",
    "* 5) relay_configuration (Dict,None): For directional relay, additional informations are needed and given\n",
    "    as dictionary with following inputs\n",
    "           \n",
    "   - relay_configuration = {'Switch_name': [switch_id,'type', 'tripping direction', RCA, OSA]}\n",
    "   - switch_name (str): name of the given switch\n",
    "   - switch_id (int): index of the switch\n",
    "   - type (str): type of the switch (CB_dir or CB_non_dir)\n",
    "   - tripping direction (str): direction of the relay (forward or reverse)\n",
    "   - OSA (float, degree) : Operating Sector Angle is the quadrature angle (ideally 86° to 90°)\n",
    "   - RCA (float, degree) : Relay Characteristics Angle is the angle by which the reference\n",
    "     voltage is adjusted to allow better sensitivity of the directional overcurrent relay\n",
    "\n",
    "\n",
    "Now, we load the network and calculate short circuit at the selected line and location using the run_fault_scenario_doc function in directional relay:"
   ]
  },
  {
   "cell_type": "code",
   "execution_count": 2,
   "metadata": {},
   "outputs": [
    {
     "name": "stderr",
     "output_type": "stream",
     "text": [
      "C:\\Users\\akumar\\AppData\\Local\\Temp\\ipykernel_7396\\1390001989.py:44: FutureWarning: The default dtype for empty Series will be 'object' instead of 'float64' in a future version. Specify a dtype explicitly to silence this warning.\n",
      "  net.bus_geodata.loc[0] = None\n",
      "C:\\Users\\akumar\\AppData\\Local\\Temp\\ipykernel_7396\\1390001989.py:45: FutureWarning: The default dtype for empty Series will be 'object' instead of 'float64' in a future version. Specify a dtype explicitly to silence this warning.\n",
      "  net.bus_geodata.loc[1] = None\n",
      "C:\\Users\\akumar\\AppData\\Local\\Temp\\ipykernel_7396\\1390001989.py:46: FutureWarning: The default dtype for empty Series will be 'object' instead of 'float64' in a future version. Specify a dtype explicitly to silence this warning.\n",
      "  net.bus_geodata.loc[2] = None\n",
      "C:\\Users\\akumar\\AppData\\Local\\Temp\\ipykernel_7396\\1390001989.py:47: FutureWarning: The default dtype for empty Series will be 'object' instead of 'float64' in a future version. Specify a dtype explicitly to silence this warning.\n",
      "  net.bus_geodata.loc[3] = None\n"
     ]
    }
   ],
   "source": [
    "net = doc_relay_net()\n",
    "from pandapower.protection.implementation import doc_relay_model as doc_protection\n"
   ]
  },
  {
   "cell_type": "markdown",
   "metadata": {},
   "source": [
    "Run fault scenario using directional over current relay (return dataframe with switch ID, type, trip, short circuit current (Ikss), trip time) "
   ]
  },
  {
   "cell_type": "code",
   "execution_count": 3,
   "metadata": {},
   "outputs": [
    {
     "name": "stderr",
     "output_type": "stream",
     "text": [
      "C:\\ProgramData\\Anaconda3\\lib\\site-packages\\pandapower\\protection\\implementation\\utility_functions.py:65: FutureWarning: The default dtype for empty Series will be 'object' instead of 'float64' in a future version. Specify a dtype explicitly to silence this warning.\n",
      "  net.bus_geodata.loc[max_idx_bus+1] = None\n",
      "C:\\ProgramData\\Anaconda3\\lib\\site-packages\\pandapower\\protection\\implementation\\utility_functions.py:65: FutureWarning: The default dtype for empty Series will be 'object' instead of 'float64' in a future version. Specify a dtype explicitly to silence this warning.\n",
      "  net.bus_geodata.loc[max_idx_bus+1] = None\n",
      "C:\\ProgramData\\Anaconda3\\lib\\site-packages\\pandapower\\protection\\implementation\\utility_functions.py:65: FutureWarning: The default dtype for empty Series will be 'object' instead of 'float64' in a future version. Specify a dtype explicitly to silence this warning.\n",
      "  net.bus_geodata.loc[max_idx_bus+1] = None\n",
      "C:\\ProgramData\\Anaconda3\\lib\\site-packages\\pandapower\\protection\\implementation\\utility_functions.py:65: FutureWarning: The default dtype for empty Series will be 'object' instead of 'float64' in a future version. Specify a dtype explicitly to silence this warning.\n",
      "  net.bus_geodata.loc[max_idx_bus+1] = None\n",
      "C:\\ProgramData\\Anaconda3\\lib\\site-packages\\pandapower\\protection\\implementation\\utility_functions.py:65: FutureWarning: The default dtype for empty Series will be 'object' instead of 'float64' in a future version. Specify a dtype explicitly to silence this warning.\n",
      "  net.bus_geodata.loc[max_idx_bus+1] = None\n"
     ]
    },
    {
     "name": "stdout",
     "output_type": "stream",
     "text": [
      "   Switch ID Switch type  Trip  Fault Current [kA]  Trip time [s]\n",
      "0          0         DOC  True            2.289117           1.10\n",
      "1          1         DOC  True            1.144558           0.50\n",
      "2          2         DOC  True            1.144558           0.80\n",
      "3          3         DOC  True            1.144558           0.07\n",
      "4          4         DOC  True            1.144558           0.07\n"
     ]
    },
    {
     "name": "stderr",
     "output_type": "stream",
     "text": [
      "C:\\ProgramData\\Anaconda3\\lib\\site-packages\\pandapower\\protection\\implementation\\utility_functions.py:65: FutureWarning: The default dtype for empty Series will be 'object' instead of 'float64' in a future version. Specify a dtype explicitly to silence this warning.\n",
      "  net.bus_geodata.loc[max_idx_bus+1] = None\n"
     ]
    }
   ],
   "source": [
    " \n",
    "relay_configuration = {\"sw_1\": [0,\"CB_dir\",\"forward\",86, 45],\n",
    "                       \"sw_2\": [1,\"CB_dir\",\"forward\",86, 45], \n",
    "                       \"sw_3\": [2,\"CB_dir\",\"forward\",86, 45],\n",
    "                       \"sw_4\": [3,\"CB_dir\",\"forward\",86, 45],\n",
    "                       \"sw_5\": [4,\"CB_dir\",\"forward\",86, 45]}\n",
    "\n",
    "trip_decisions,net_sc = doc_protection.run_fault_scenario_doc(net, sc_line_id =4,relay_configuration=relay_configuration,\n",
    "                                        sc_location = 0.5,tripping_time_auto=[0.07,0.5,0.3])\n"
   ]
  },
  {
   "cell_type": "markdown",
   "metadata": {},
   "source": [
    "# Show trip decisions\n",
    "The function run fault scenario returns list of dictionaries with tripping decisons of each switches in the network.\n",
    "- switch index : Index number of the switch (here every switches are accessed using their index)\n",
    "- switch type : Type of switch in the network (DOC- directional over current switch)\n",
    "- Trip: Trip is true or false\n",
    "- Fault current:  Maximum short circuit current at the relay location (minimum short circuit can also be specifies, please   refer short circuit in pandapower documentation.\n",
    "- Igg:Instantaneous tripping current in Ampere (A)\n",
    "- Ig: Backup tripping current in Ampere (A)\n",
    "- MTA: Maximum Torque Angle of each relay (OSA-RCA)\n",
    "- vi_angle: Angle between volatage and current under short circuit (with reference to volatage)\n",
    "- Relay direction: Direction of biasing of switch (forward or reverse)\n",
    "- Zone: Operating zone (based on MTA and vi angle)\n",
    "- Trip Type: Tripping only happen if relay direction and operating zone are the same, else No trip\n",
    "    -Instantaneous trip if fault current >=Igg \n",
    "    -Backup  fault current >=Ig and less than Igg\n",
    "    -No trip fault current less tha Igg and Ig\n",
    "    \n",
    "- Tripping time : Tripping time of the respective switch\n",
    "- tg: backup tripping time calculated based on the time grading plan\n",
    "- tgg: Instantaneous tripping time based on the input\n",
    "\n",
    "Trip decisons of each switches can be shown by indexing the respective switch id"
   ]
  },
  {
   "cell_type": "code",
   "execution_count": 4,
   "metadata": {},
   "outputs": [
    {
     "data": {
      "text/plain": [
       "[{'Switch ID': 0,\n",
       "  'Switch type': 'DOC',\n",
       "  'Trip': True,\n",
       "  'Fault Current [kA]': 2.2891166707614703,\n",
       "  'Trip Type': 'backup',\n",
       "  'Trip time [s]': 1.1,\n",
       "  'Ig': 0.5415,\n",
       "  'Igg': 2.4934101771038413,\n",
       "  'tg': 1.1,\n",
       "  't_gg': 0.07,\n",
       "  'MTA': 41,\n",
       "  'vi_angle': 31.800335564110483,\n",
       "  'Relay direction': 'forward',\n",
       "  'Zone': 'forward_zone'},\n",
       " {'Switch ID': 1,\n",
       "  'Switch type': 'DOC',\n",
       "  'Trip': True,\n",
       "  'Fault Current [kA]': 1.1445583353807331,\n",
       "  'Trip Type': 'backup',\n",
       "  'Trip time [s]': 0.5,\n",
       "  'Ig': 0.42899999999999994,\n",
       "  'Igg': 1.2668550836447374,\n",
       "  'tg': 0.5,\n",
       "  't_gg': 0.07,\n",
       "  'MTA': 41,\n",
       "  'vi_angle': 26.314913191502548,\n",
       "  'Relay direction': 'forward',\n",
       "  'Zone': 'forward_zone'},\n",
       " {'Switch ID': 2,\n",
       "  'Switch type': 'DOC',\n",
       "  'Trip': True,\n",
       "  'Fault Current [kA]': 1.1445583353807334,\n",
       "  'Trip Type': 'backup',\n",
       "  'Trip time [s]': 0.8,\n",
       "  'Ig': 0.42899999999999994,\n",
       "  'Igg': 1.266855083644738,\n",
       "  'tg': 0.8,\n",
       "  't_gg': 0.07,\n",
       "  'MTA': 41,\n",
       "  'vi_angle': 26.31491319150256,\n",
       "  'Relay direction': 'forward',\n",
       "  'Zone': 'forward_zone'},\n",
       " {'Switch ID': 3,\n",
       "  'Switch type': 'DOC',\n",
       "  'Trip': True,\n",
       "  'Fault Current [kA]': 1.144558335380728,\n",
       "  'Trip Type': 'instantaneous',\n",
       "  'Trip time [s]': 0.07,\n",
       "  'Ig': 0.42899999999999994,\n",
       "  'Igg': 1.0842012548418891,\n",
       "  'tg': 0.5,\n",
       "  't_gg': 0.07,\n",
       "  'MTA': 41,\n",
       "  'vi_angle': 26.31491319150252,\n",
       "  'Relay direction': 'forward',\n",
       "  'Zone': 'forward_zone'},\n",
       " {'Switch ID': 4,\n",
       "  'Switch type': 'DOC',\n",
       "  'Trip': True,\n",
       "  'Fault Current [kA]': 1.1445583353807218,\n",
       "  'Trip Type': 'instantaneous',\n",
       "  'Trip time [s]': 0.07,\n",
       "  'Ig': 0.42899999999999994,\n",
       "  'Igg': 1.0842012548418891,\n",
       "  'tg': 0.5,\n",
       "  't_gg': 0.07,\n",
       "  'MTA': 41,\n",
       "  'vi_angle': 26.31491319150252,\n",
       "  'Relay direction': 'forward',\n",
       "  'Zone': 'forward_zone'}]"
      ]
     },
     "execution_count": 4,
     "metadata": {},
     "output_type": "execute_result"
    }
   ],
   "source": [
    "# show the trip decisions\n",
    "trip_decisions"
   ]
  },
  {
   "cell_type": "code",
   "execution_count": 5,
   "metadata": {},
   "outputs": [
    {
     "name": "stdout",
     "output_type": "stream",
     "text": [
      "This pandapower network includes the following parameter tables:\n",
      "   - bus (5 elements)\n",
      "   - load (1 element)\n",
      "   - switch (5 elements)\n",
      "   - ext_grid (1 element)\n",
      "   - line (5 elements)\n",
      "   - bus_geodata (5 elements)\n",
      " and the following results tables:\n",
      "   - res_bus (5 elements)\n",
      "   - res_line (5 elements)\n",
      "   - res_ext_grid (1 element)\n",
      "   - res_load (1 element)\n",
      "   - res_switch (5 elements)\n",
      "   - res_bus_sc (1 element)\n",
      "   - res_line_sc (5 elements)\n",
      "   - res_ext_grid_sc (1 element)\n",
      "   - res_switch_sc (5 elements)\n"
     ]
    }
   ],
   "source": [
    "# print short circuit net\n",
    "print(net_sc)"
   ]
  },
  {
   "cell_type": "markdown",
   "metadata": {},
   "source": [
    "## Show tripped grid\n",
    "Shows tripped switches, short circuit currents, sc location with repective annotations"
   ]
  },
  {
   "cell_type": "code",
   "execution_count": 6,
   "metadata": {},
   "outputs": [
    {
     "name": "stderr",
     "output_type": "stream",
     "text": [
      "use_bus_geodata is automatically set to True, since net.line_geodata is empty.\n"
     ]
    },
    {
     "data": {
      "image/png": "[encoded data removed]",
      "text/plain": [
       "<Figure size 720x576 with 1 Axes>"
      ]
     },
     "metadata": {},
     "output_type": "display_data"
    }
   ],
   "source": [
    "from pandapower.protection.implementation.utility_functions import plot_tripped_grid\n",
    "plot_tripped_grid(net_sc, trip_decisions,sc_location=0.5,plot_annotations=True)"
   ]
  },
  {
   "cell_type": "markdown",
   "metadata": {},
   "source": [
    "# Create I-t Plot\n",
    "* Plot showing relation between current and time by using trip decisions and switch index using function create_I_t_plot from utility function\n"
   ]
  },
  {
   "cell_type": "code",
   "execution_count": 7,
   "metadata": {},
   "outputs": [
    {
     "ename": "ModuleNotFoundError",
     "evalue": "No module named 'pandaplan'",
     "output_type": "error",
     "traceback": [
      "\u001b[1;31m---------------------------------------------------------------------------\u001b[0m",
      "\u001b[1;31mModuleNotFoundError\u001b[0m                       Traceback (most recent call last)",
      "Input \u001b[1;32mIn [7]\u001b[0m, in \u001b[0;36m<cell line: 1>\u001b[1;34m()\u001b[0m\n\u001b[1;32m----> 1\u001b[0m \u001b[38;5;28;01mfrom\u001b[39;00m \u001b[38;5;21;01mpandaplan\u001b[39;00m\u001b[38;5;21;01m.\u001b[39;00m\u001b[38;5;21;01mcore\u001b[39;00m\u001b[38;5;21;01m.\u001b[39;00m\u001b[38;5;21;01mprotection\u001b[39;00m\u001b[38;5;21;01m.\u001b[39;00m\u001b[38;5;21;01mimplementation\u001b[39;00m\u001b[38;5;21;01m.\u001b[39;00m\u001b[38;5;21;01mutility_functions\u001b[39;00m \u001b[38;5;28;01mimport\u001b[39;00m create_I_t_plot\n\u001b[0;32m      2\u001b[0m \u001b[38;5;28;01mimport\u001b[39;00m \u001b[38;5;21;01mmatplotlib\u001b[39;00m\u001b[38;5;21;01m.\u001b[39;00m\u001b[38;5;21;01mpyplot\u001b[39;00m \u001b[38;5;28;01mas\u001b[39;00m \u001b[38;5;21;01mplt\u001b[39;00m\n\u001b[0;32m      3\u001b[0m create_I_t_plot(trip_decisions,switch_id\u001b[38;5;241m=\u001b[39m[\u001b[38;5;241m0\u001b[39m])\n",
      "\u001b[1;31mModuleNotFoundError\u001b[0m: No module named 'pandaplan'"
     ]
    }
   ],
   "source": [
    "from pandaplan.core.protection.implementation.utility_functions import create_I_t_plot\n",
    "import matplotlib.pyplot as plt\n",
    "create_I_t_plot(trip_decisions,switch_id=[0])\n",
    "plt.close()"
   ]
  },
  {
   "cell_type": "markdown",
   "metadata": {},
   "source": [
    "# Additional features "
   ]
  },
  {
   "cell_type": "markdown",
   "metadata": {},
   "source": [
    "### Manual tripping time for each switches\n",
    "doc fault scenario is capable to provide manual triiping time for each switches in the form a dataframe (replace tripping_time_auto by tripping_time_manual)\n"
   ]
  },
  {
   "cell_type": "code",
   "execution_count": 8,
   "metadata": {},
   "outputs": [],
   "source": [
    "import pandas as pd\n",
    "tripping_time_manual= pd.DataFrame({'switch_id': [0,1,2,3,4,5,6],\n",
    "                              't_gg': [0.07,0.07,0.07,0.07,0.07,0.07,0.06],\n",
    "                              't_g':[0.5,0.8,1.1,1.4,1.7,2.0,2.3]})\n"
   ]
  },
  {
   "cell_type": "code",
   "execution_count": 9,
   "metadata": {},
   "outputs": [
    {
     "name": "stderr",
     "output_type": "stream",
     "text": [
      "C:\\ProgramData\\Anaconda3\\lib\\site-packages\\pandapower\\protection\\implementation\\utility_functions.py:65: FutureWarning: The default dtype for empty Series will be 'object' instead of 'float64' in a future version. Specify a dtype explicitly to silence this warning.\n",
      "  net.bus_geodata.loc[max_idx_bus+1] = None\n",
      "C:\\ProgramData\\Anaconda3\\lib\\site-packages\\pandapower\\protection\\implementation\\utility_functions.py:65: FutureWarning: The default dtype for empty Series will be 'object' instead of 'float64' in a future version. Specify a dtype explicitly to silence this warning.\n",
      "  net.bus_geodata.loc[max_idx_bus+1] = None\n",
      "C:\\ProgramData\\Anaconda3\\lib\\site-packages\\pandapower\\protection\\implementation\\utility_functions.py:65: FutureWarning: The default dtype for empty Series will be 'object' instead of 'float64' in a future version. Specify a dtype explicitly to silence this warning.\n",
      "  net.bus_geodata.loc[max_idx_bus+1] = None\n",
      "C:\\ProgramData\\Anaconda3\\lib\\site-packages\\pandapower\\protection\\implementation\\utility_functions.py:65: FutureWarning: The default dtype for empty Series will be 'object' instead of 'float64' in a future version. Specify a dtype explicitly to silence this warning.\n",
      "  net.bus_geodata.loc[max_idx_bus+1] = None\n",
      "C:\\ProgramData\\Anaconda3\\lib\\site-packages\\pandapower\\protection\\implementation\\utility_functions.py:65: FutureWarning: The default dtype for empty Series will be 'object' instead of 'float64' in a future version. Specify a dtype explicitly to silence this warning.\n",
      "  net.bus_geodata.loc[max_idx_bus+1] = None\n"
     ]
    },
    {
     "name": "stdout",
     "output_type": "stream",
     "text": [
      "   Switch ID Switch type  Trip  Fault Current [kA]  Trip time [s]\n",
      "0          0         DOC  True            2.289117           0.50\n",
      "1          1         DOC  True            1.144558           0.80\n",
      "2          2         DOC  True            1.144558           1.10\n",
      "3          3         DOC  True            1.144558           0.07\n",
      "4          4         DOC  True            1.144558           0.07\n"
     ]
    },
    {
     "name": "stderr",
     "output_type": "stream",
     "text": [
      "C:\\ProgramData\\Anaconda3\\lib\\site-packages\\pandapower\\protection\\implementation\\utility_functions.py:65: FutureWarning: The default dtype for empty Series will be 'object' instead of 'float64' in a future version. Specify a dtype explicitly to silence this warning.\n",
      "  net.bus_geodata.loc[max_idx_bus+1] = None\n"
     ]
    }
   ],
   "source": [
    "trip_decisions=doc_protection.run_fault_scenario_doc(net, sc_line_id =4,sc_location = 0.5,\n",
    "                                         tripping_time_manual=tripping_time_manual,relay_configuration=relay_configuration)"
   ]
  },
  {
   "cell_type": "markdown",
   "metadata": {},
   "source": [
    "### Varying DOC parameters\n",
    "DOC fault scenario is capable to set  treshhold triping current for each switches by varying the default values in the following parameters from the default value\n",
    " - sc_fraction (float, 0.95) : Maximum possible extent to which the short circuit can be created on the line\n",
    " - overload_factor (float, 1.25):Allowable over loading on the line used to calculate the backup pick up current\n",
    " - ct_current_factor (float, 1.2): Current mutiplication factor to define the backup pick up current\n",
    " - safety_factor (float, 1): Safety limit for the instantaneous pick up currents\n"
   ]
  },
  {
   "cell_type": "code",
   "execution_count": 10,
   "metadata": {},
   "outputs": [
    {
     "name": "stderr",
     "output_type": "stream",
     "text": [
      "C:\\ProgramData\\Anaconda3\\lib\\site-packages\\pandapower\\protection\\implementation\\utility_functions.py:65: FutureWarning: The default dtype for empty Series will be 'object' instead of 'float64' in a future version. Specify a dtype explicitly to silence this warning.\n",
      "  net.bus_geodata.loc[max_idx_bus+1] = None\n",
      "C:\\ProgramData\\Anaconda3\\lib\\site-packages\\pandapower\\protection\\implementation\\utility_functions.py:65: FutureWarning: The default dtype for empty Series will be 'object' instead of 'float64' in a future version. Specify a dtype explicitly to silence this warning.\n",
      "  net.bus_geodata.loc[max_idx_bus+1] = None\n",
      "C:\\ProgramData\\Anaconda3\\lib\\site-packages\\pandapower\\protection\\implementation\\utility_functions.py:65: FutureWarning: The default dtype for empty Series will be 'object' instead of 'float64' in a future version. Specify a dtype explicitly to silence this warning.\n",
      "  net.bus_geodata.loc[max_idx_bus+1] = None\n",
      "C:\\ProgramData\\Anaconda3\\lib\\site-packages\\pandapower\\protection\\implementation\\utility_functions.py:65: FutureWarning: The default dtype for empty Series will be 'object' instead of 'float64' in a future version. Specify a dtype explicitly to silence this warning.\n",
      "  net.bus_geodata.loc[max_idx_bus+1] = None\n",
      "C:\\ProgramData\\Anaconda3\\lib\\site-packages\\pandapower\\protection\\implementation\\utility_functions.py:65: FutureWarning: The default dtype for empty Series will be 'object' instead of 'float64' in a future version. Specify a dtype explicitly to silence this warning.\n",
      "  net.bus_geodata.loc[max_idx_bus+1] = None\n",
      "C:\\ProgramData\\Anaconda3\\lib\\site-packages\\pandapower\\protection\\implementation\\utility_functions.py:65: FutureWarning: The default dtype for empty Series will be 'object' instead of 'float64' in a future version. Specify a dtype explicitly to silence this warning.\n",
      "  net.bus_geodata.loc[max_idx_bus+1] = None\n"
     ]
    },
    {
     "name": "stdout",
     "output_type": "stream",
     "text": [
      "   Switch ID Switch type  Trip  Fault Current [kA]  Trip time [s]\n",
      "0          0         DOC  True            2.289117            1.1\n",
      "1          1         DOC  True            1.144558            0.5\n",
      "2          2         DOC  True            1.144558            0.8\n",
      "3          3         DOC  True            1.144558            0.5\n",
      "4          4         DOC  True            1.144558            0.5\n"
     ]
    }
   ],
   "source": [
    "trip_decisions=doc_protection.run_fault_scenario_doc(net, sc_line_id =4,sc_location = 0.5,\n",
    "                tripping_time_auto=[0.07,0.5,0.3],sc_fraction=0.9,relay_configuration=relay_configuration,overload_factor=1.5,\n",
    "                    ct_current_factor=2,safety_factor=1.5)"
   ]
  },
  {
   "cell_type": "markdown",
   "metadata": {},
   "source": [
    "### Manual tripping current for each switches\n",
    "Instead of varying the OC parametrs, users can defne pickup current for each switches in the form of dataframe\n"
   ]
  },
  {
   "cell_type": "code",
   "execution_count": null,
   "metadata": {},
   "outputs": [],
   "source": [
    "pickup_current_manual= pd.DataFrame({'switch_id': [0,1,2,3,4,5,6],\n",
    "                              'Igg': [2.2,2.3,2.1,2.5,1.2,0.9,1.7],\n",
    "                              'Ig':[0.8,0.7,0.7,0.8,0.8,0.8,0.9]})\n",
    "\n",
    "trip_decisions=doc_protection.run_fault_scenario_doc(net,sc_line_id =4,sc_location=0.5,relay_configuration=relay_configuration,\n",
    "                                         tripping_time_auto=[0.07,0.5,0.3],pickup_current_manual=pickup_current_manual)"
   ]
  },
  {
   "cell_type": "code",
   "execution_count": null,
   "metadata": {},
   "outputs": [],
   "source": []
  },
  {
   "cell_type": "code",
   "execution_count": null,
   "metadata": {},
   "outputs": [],
   "source": []
  }
 ],
 "metadata": {
  "anaconda-cloud": {},
  "kernelspec": {
   "display_name": "Python 3 (ipykernel)",
   "language": "python",
   "name": "python3"
  },
  "language_info": {
   "codemirror_mode": {
    "name": "ipython",
    "version": 3
   },
   "file_extension": ".py",
   "mimetype": "text/x-python",
   "name": "python",
   "nbconvert_exporter": "python",
   "pygments_lexer": "ipython3",
   "version": "3.9.12"
  }
 },
 "nbformat": 4,
 "nbformat_minor": 1
}
