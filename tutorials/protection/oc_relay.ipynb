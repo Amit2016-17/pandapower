{
 "cells": [
  {
   "cell_type": "markdown",
   "metadata": {},
   "source": [
    "# Over Current Relay (OC relay)\n",
    "\n",
    "Pandapower supports running protection scenario using Definite Time Over Current Relay (OC relay) in radial and meshed networks. It supports both the automated time grading plan based on grid searches and manual tripping times. As of now, it does not consider Inverse Time Over Current Relay."
   ]
  },
  {
   "cell_type": "markdown",
   "metadata": {},
   "source": [
    "### Example Network\n",
    "\n",
    "Here is a little example for creating the over current protection scenario. First, we create a network with 7 buses and 8 switches. In this modelling scheme, the relay features are added to the existing switches in the pandapower network. The switch is type defined as 'CB_non_dir' for running protection scenario using over current relay.\n"
   ]
  },
  {
   "cell_type": "code",
   "execution_count": 1,
   "metadata": {},
   "outputs": [],
   "source": [
    "def oc_relay_net(open_loop=True):\n",
    "    import pandapower as pp\n",
    "    # create an empty network\n",
    "    net = pp.create_empty_network()  \n",
    "    \n",
    "    # busbars and nodes\n",
    "    bus0 = pp.create_bus(net, name=\"Bus_extgrid\", vn_kv=20, type=\"b\")\n",
    "    bus1 = pp.create_bus(net, name=\"Bus_line0\", vn_kv=20, type=\"n\")\n",
    "    bus2 = pp.create_bus(net, name=\"Bus_line1\", vn_kv=20, type=\"n\")\n",
    "    bus3 = pp.create_bus(net, name=\"Bus_line2\", vn_kv=20, type=\"n\")\n",
    "    bus4 = pp.create_bus(net, name=\"Bus_load1\", vn_kv=20, type=\"n\")\n",
    "    bus5 = pp.create_bus(net, name=\"Bus_line3\", vn_kv=20, type=\"n\")\n",
    "    bus6 = pp.create_bus(net, name=\"Bus_load2\", vn_kv=20, type=\"n\")\n",
    "    # external grids\n",
    "    pp.create_ext_grid(net, bus0, vm_pu=1.0, va_degree=0, s_sc_max_mva=100, s_sc_min_mva=50, rx_max=0.1, rx_min=0.1)\n",
    "\n",
    "    # create lines\n",
    "    line0 = pp.create_line_from_parameters(net, bus0, bus1, length_km=2, index=0, r_ohm_per_km=0.169,\n",
    "                                           x_ohm_per_km=0.118438, c_nf_per_km=273, max_i_ka=0.361)\n",
    "    line1 = pp.create_line_from_parameters(net, bus1, bus2, length_km=5, index=1, r_ohm_per_km=0.169,\n",
    "                                           x_ohm_per_km=0.118438, c_nf_per_km=273, max_i_ka=0.361)\n",
    "    line2 = pp.create_line_from_parameters(net, bus2, bus3, length_km=4, index=2, r_ohm_per_km=0.256,\n",
    "                                           x_ohm_per_km=0.126606, c_nf_per_km=235, max_i_ka=0.286)\n",
    "    line3 = pp.create_line_from_parameters(net, bus1, bus4, length_km=4, index=3, r_ohm_per_km=0.256,\n",
    "                                           x_ohm_per_km=0.126606, c_nf_per_km=235, max_i_ka=0.286)\n",
    "    line4 = pp.create_line_from_parameters(net, bus4, bus5, length_km=0.5, index=4, r_ohm_per_km=0.256,\n",
    "                                           x_ohm_per_km=0.126606, c_nf_per_km=235, max_i_ka=0.286)\n",
    "    line5 = pp.create_line_from_parameters(net, bus5, bus6, length_km=0.5, index=5, r_ohm_per_km=0.256,\n",
    "                                           x_ohm_per_km=0.126606, c_nf_per_km=235, max_i_ka=0.286)\n",
    "    line6 = pp.create_line_from_parameters(net, bus3, bus6, length_km=4, index=6, r_ohm_per_km=0.256,\n",
    "                                           x_ohm_per_km=0.126606, c_nf_per_km=235, max_i_ka=0.286)\n",
    "\n",
    "    # define short-circuit end temperature of the line\n",
    "    net.line[\"endtemp_degree\"] = 250\n",
    "\n",
    "    # define switches \n",
    "    swo=pp.create_switch(net, bus0, line0, et=\"l\", type=\"CB_non_dir\", closed=True, index=0)\n",
    "    sw1 = pp.create_switch(net, bus1, line1, et=\"l\", type=\"CB_non_dir\", closed=True, index=1)\n",
    "\n",
    "    sw2 = pp.create_switch(net, bus2, line2, et=\"l\", type = \"CB_non_dir\", closed = True, index=2)\n",
    "\n",
    "    sw3 = pp.create_switch(net, bus1, line3, et=\"l\", type=\"CB_non_dir\", closed=True, index=3)\n",
    "\n",
    "    sw4 = pp.create_switch(net, bus4, line4, et=\"l\", type = \"CB_non_dir\", closed = True, index=4)\n",
    "\n",
    "    sw5 = pp.create_switch(net, bus5, line5, et=\"l\", type=\"CB_non_dir\", closed=True, index=5)\n",
    "    \n",
    "    # bus bar connection\n",
    "    if open_loop:\n",
    "        sw6 = pp.create_switch(net, bus3, line6, et=\"l\", type=\"CB_non_dir\", closed=False, index=6)\n",
    "        sw7 = pp.create_switch(net, bus6, line6, et=\"l\", type=\"CB_non_dir\", closed=False, index=7)\n",
    "    else:\n",
    "        sw6 = pp.create_switch(net, bus3, line6, et=\"l\", type=\"CB_non_dir\", closed=True, index=6)\n",
    "        sw7 = pp.create_switch(net, bus6, line6, et=\"l\", type=\"CB_non_dir\", closed=True, index=7)\n",
    "    \n",
    "    #define load\n",
    "    pp.create_load(net, bus3, p_mw=5, q_mvar=1, scaling=1, name= \"load 1\")\n",
    "    pp.create_load(net, bus6, p_mw=2, q_mvar=1, scaling=1, name= \"load 2\")\n",
    "\n",
    "    # initialise geo coordinates\n",
    "    net.bus_geodata.loc[0] = None\n",
    "    net.bus_geodata.loc[1] = None\n",
    "    net.bus_geodata.loc[2] = None\n",
    "    net.bus_geodata.loc[3] = None\n",
    "    net.bus_geodata.loc[4] = None\n",
    "    net.bus_geodata.loc[5] = None\n",
    "    net.bus_geodata.loc[6] = None\n",
    "    \n",
    "    #define geo coordinates\n",
    "    net.bus_geodata.x.at[0] = 0\n",
    "    net.bus_geodata.x.at[1] = 0\n",
    "    net.bus_geodata.x.at[2] = -2\n",
    "    net.bus_geodata.x.at[3] = -2\n",
    "    net.bus_geodata.x.at[4] = 2\n",
    "    net.bus_geodata.x.at[5] = 2\n",
    "    net.bus_geodata.x.at[6] = 2\n",
    "    net.bus_geodata.y.at[0] = 0\n",
    "    net.bus_geodata.y.at[1] = -1\n",
    "    net.bus_geodata.y.at[2] = -2\n",
    "    net.bus_geodata.y.at[3] = -4\n",
    "    net.bus_geodata.y.at[4] = -2\n",
    "    net.bus_geodata.y.at[5] = -3\n",
    "    net.bus_geodata.y.at[6] = -4\n",
    "    return net"
   ]
  },
  {
   "cell_type": "markdown",
   "metadata": {},
   "source": [
    "## Import OC Protection Module\n",
    "\n",
    "Required inputs\n",
    "* 1) net: (pandapowerNet) - Pandapower network with switch type as \"CB_non_dir\" in net.switch.type\n",
    "* 2) sc_line_id (int, index): Index of the line to create the short circuit\n",
    "* 3) sc_location (float): Location of short circuit on the on line (between 0 and 1).\n",
    "* 4) tripping_time_auto (list, float): Relay tripping time calculated based on topological grid search.\n",
    "        - tripping_time_auto =[t>>, t> t_diff],\n",
    "        - t>> (t_gg): instantaneous tripping time in seconds,\n",
    "        - t> (t_g):  primary backup tripping time in seconds, \n",
    "        - t_diff: time grading delay difference in seconds\n",
    "\n",
    "Now, we load the network and calculate short circuit at the selected line and location using the run_fault_scenario_oc function:"
   ]
  },
  {
   "cell_type": "code",
   "execution_count": 2,
   "metadata": {},
   "outputs": [
    {
     "name": "stderr",
     "output_type": "stream",
     "text": [
      "C:\\Users\\akumar\\AppData\\Local\\Temp\\ipykernel_14688\\1952815462.py:61: FutureWarning: The default dtype for empty Series will be 'object' instead of 'float64' in a future version. Specify a dtype explicitly to silence this warning.\n",
      "  net.bus_geodata.loc[0] = None\n",
      "C:\\Users\\akumar\\AppData\\Local\\Temp\\ipykernel_14688\\1952815462.py:62: FutureWarning: The default dtype for empty Series will be 'object' instead of 'float64' in a future version. Specify a dtype explicitly to silence this warning.\n",
      "  net.bus_geodata.loc[1] = None\n",
      "C:\\Users\\akumar\\AppData\\Local\\Temp\\ipykernel_14688\\1952815462.py:63: FutureWarning: The default dtype for empty Series will be 'object' instead of 'float64' in a future version. Specify a dtype explicitly to silence this warning.\n",
      "  net.bus_geodata.loc[2] = None\n",
      "C:\\Users\\akumar\\AppData\\Local\\Temp\\ipykernel_14688\\1952815462.py:64: FutureWarning: The default dtype for empty Series will be 'object' instead of 'float64' in a future version. Specify a dtype explicitly to silence this warning.\n",
      "  net.bus_geodata.loc[3] = None\n",
      "C:\\Users\\akumar\\AppData\\Local\\Temp\\ipykernel_14688\\1952815462.py:65: FutureWarning: The default dtype for empty Series will be 'object' instead of 'float64' in a future version. Specify a dtype explicitly to silence this warning.\n",
      "  net.bus_geodata.loc[4] = None\n",
      "C:\\Users\\akumar\\AppData\\Local\\Temp\\ipykernel_14688\\1952815462.py:66: FutureWarning: The default dtype for empty Series will be 'object' instead of 'float64' in a future version. Specify a dtype explicitly to silence this warning.\n",
      "  net.bus_geodata.loc[5] = None\n",
      "C:\\Users\\akumar\\AppData\\Local\\Temp\\ipykernel_14688\\1952815462.py:67: FutureWarning: The default dtype for empty Series will be 'object' instead of 'float64' in a future version. Specify a dtype explicitly to silence this warning.\n",
      "  net.bus_geodata.loc[6] = None\n"
     ]
    }
   ],
   "source": [
    "net = oc_relay_net(open_loop=True)\n",
    "from pandapower.protection.implementation import oc_relay_model as oc_protection"
   ]
  },
  {
   "cell_type": "markdown",
   "metadata": {},
   "source": [
    "Run fault scenario using over current relay (return dataframe with switch ID, type, trip, short circuit current (Ikss), trip time)"
   ]
  },
  {
   "cell_type": "code",
   "execution_count": 3,
   "metadata": {},
   "outputs": [
    {
     "name": "stderr",
     "output_type": "stream",
     "text": [
      "Branch results are in beta mode and might not always be reliable, especially for transformers\n",
      "Branch results are in beta mode and might not always be reliable, especially for transformers\n",
      "Branch results are in beta mode and might not always be reliable, especially for transformers\n",
      "Branch results are in beta mode and might not always be reliable, especially for transformers\n",
      "Branch results are in beta mode and might not always be reliable, especially for transformers\n",
      "Branch results are in beta mode and might not always be reliable, especially for transformers\n",
      "Branch results are in beta mode and might not always be reliable, especially for transformers\n"
     ]
    },
    {
     "name": "stdout",
     "output_type": "stream",
     "text": [
      "   Switch ID Switch type   Trip  Fault Current [kA]  Trip time [s]\n",
      "0          0          OC   True            2.317906           1.40\n",
      "1          1          OC  False            0.000000            inf\n",
      "2          2          OC  False            0.000000            inf\n",
      "3          3          OC   True            2.317906           1.10\n",
      "4          4          OC   True            2.317906           0.07\n",
      "5          5          OC  False            0.000000            inf\n"
     ]
    }
   ],
   "source": [
    "\n",
    "trip_decisions,net_sc=oc_protection.run_fault_scenario_oc(net, sc_line_id =4,sc_location =0.5,tripping_time_auto=[0.07,0.5,0.3])"
   ]
  },
  {
   "cell_type": "markdown",
   "metadata": {},
   "source": [
    "# Show trip decisions\n",
    "The function run fault scenario returns list of dictionaries with tripping decisons of each switches in the network.\n",
    "- switch index : Index number of the switch (here every switches are accessed using their index)\n",
    "- switch type : Type of switch in the network (OC- over current switch)\n",
    "- Trip: Trip is true or false\n",
    "- Fault current:  Maximum short circuit current at the relay location (minimum short circuit can also be specifies, please   refer short circuit in pandapower documentation.\n",
    "- Igg:Instantaneous tripping current in Ampere (A)\n",
    "- Ig: Backup tripping current in Ampere (A)\n",
    "- Trip Type: \n",
    "    -Instantaneous trip if fault current >=Igg\n",
    "    -Backup  fault current >=Ig and less than Igg\n",
    "    -No trip fault current less tha Igg and Ig\n",
    "    \n",
    "- Tripping time : Tripping time of the respective switch\n",
    "- tg: backup tripping time calculated based on the time grading plan\n",
    "- tgg: Instantaneous tripping time based on the input\n",
    "\n",
    "Trip decisons of each switches can be shown by indexing the respective switch id"
   ]
  },
  {
   "cell_type": "code",
   "execution_count": 4,
   "metadata": {},
   "outputs": [
    {
     "data": {
      "text/plain": [
       "{'Switch ID': 1,\n",
       " 'Switch type': 'OC',\n",
       " 'Trip': False,\n",
       " 'Fault Current [kA]': 0.0,\n",
       " 'Trip Type': 'no trip',\n",
       " 'Trip time [s]': inf,\n",
       " 'Ig': 0.5415,\n",
       " 'Igg': 2.3465566557867055,\n",
       " 'tg': 0.8,\n",
       " 't_gg': 0.07}"
      ]
     },
     "execution_count": 4,
     "metadata": {},
     "output_type": "execute_result"
    }
   ],
   "source": [
    "# show the trip decision for switch_id=1\n",
    "trip_decisions[1]"
   ]
  },
  {
   "cell_type": "code",
   "execution_count": 5,
   "metadata": {},
   "outputs": [
    {
     "data": {
      "text/plain": [
       "This pandapower network includes the following parameter tables:\n",
       "   - bus (8 elements)\n",
       "   - load (2 elements)\n",
       "   - switch (8 elements)\n",
       "   - ext_grid (1 element)\n",
       "   - line (8 elements)\n",
       "   - bus_geodata (8 elements)\n",
       " and the following results tables:\n",
       "   - res_bus (7 elements)\n",
       "   - res_line (7 elements)\n",
       "   - res_ext_grid (1 element)\n",
       "   - res_load (2 elements)\n",
       "   - res_switch (8 elements)\n",
       "   - res_bus_sc (1 element)\n",
       "   - res_line_sc (8 elements)\n",
       "   - res_ext_grid_sc (1 element)\n",
       "   - res_switch_sc (8 elements)"
      ]
     },
     "execution_count": 5,
     "metadata": {},
     "output_type": "execute_result"
    }
   ],
   "source": [
    "# print short circuit grid net_sc\n",
    "net_sc"
   ]
  },
  {
   "cell_type": "markdown",
   "metadata": {},
   "source": [
    "## Show tripped grid\n",
    "Shows tripped switches, short circuit currents, sc location with repective annotations"
   ]
  },
  {
   "cell_type": "code",
   "execution_count": 6,
   "metadata": {},
   "outputs": [
    {
     "name": "stderr",
     "output_type": "stream",
     "text": [
      "use_bus_geodata is automatically set to True, since net.line_geodata is empty.\n"
     ]
    },
    {
     "data": {
      "image/png": "[encoded data removed]",
      "text/plain": [
       "<Figure size 720x576 with 1 Axes>"
      ]
     },
     "metadata": {},
     "output_type": "display_data"
    }
   ],
   "source": [
    "from pandapower.protection.implementation.utility_functions import plot_tripped_grid\n",
    "plot_tripped_grid(net_sc, trip_decisions,sc_location=0.5,plot_annotations=True)"
   ]
  },
  {
   "cell_type": "markdown",
   "metadata": {},
   "source": [
    "# Create I-t Plot\n",
    "* Plot showing relation between current and time by using trip decisions and switch index using function create_I_t_plot from utility function"
   ]
  },
  {
   "cell_type": "code",
   "execution_count": 7,
   "metadata": {},
   "outputs": [
    {
     "data": {
      "image/png": "[encoded data removed]",
      "text/plain": [
       "<Figure size 432x288 with 1 Axes>"
      ]
     },
     "metadata": {
      "needs_background": "light"
     },
     "output_type": "display_data"
    },
    {
     "name": "stderr",
     "output_type": "stream",
     "text": [
      "No artists with labels found to put in legend.  Note that artists whose label start with an underscore are ignored when legend() is called with no argument.\n"
     ]
    }
   ],
   "source": [
    "from pandapower.protection.implementation.utility_functions import create_I_t_plot\n",
    "import matplotlib.pyplot as plt\n",
    "create_I_t_plot(trip_decisions,switch_id=[0,3])\n",
    "plt.close()"
   ]
  },
  {
   "cell_type": "markdown",
   "metadata": {},
   "source": [
    "# Additional features "
   ]
  },
  {
   "cell_type": "markdown",
   "metadata": {},
   "source": [
    "### Manual tripping time for each switches\n",
    "oc_fault_scenario is capable to provide manual tripping time for each switches in the form a dataframe (replace tripping_time_auto by tripping_time_manual)\n"
   ]
  },
  {
   "cell_type": "code",
   "execution_count": 8,
   "metadata": {},
   "outputs": [],
   "source": [
    "import pandas as pd\n",
    "tripping_time_manual= pd.DataFrame({'switch_id': [0,1,2,3,4,5,6],\n",
    "                              't_gg': [0.07,0.07,0.07,0.07,0.07,0.07,0.06],\n",
    "                              't_g':[0.5,0.8,1.1,1.4,1.7,2.0,2.3]})\n"
   ]
  },
  {
   "cell_type": "code",
   "execution_count": 9,
   "metadata": {},
   "outputs": [
    {
     "name": "stderr",
     "output_type": "stream",
     "text": [
      "Branch results are in beta mode and might not always be reliable, especially for transformers\n",
      "Branch results are in beta mode and might not always be reliable, especially for transformers\n",
      "Branch results are in beta mode and might not always be reliable, especially for transformers\n",
      "Branch results are in beta mode and might not always be reliable, especially for transformers\n",
      "Branch results are in beta mode and might not always be reliable, especially for transformers\n",
      "Branch results are in beta mode and might not always be reliable, especially for transformers\n",
      "Branch results are in beta mode and might not always be reliable, especially for transformers\n"
     ]
    },
    {
     "name": "stdout",
     "output_type": "stream",
     "text": [
      "   Switch ID Switch type   Trip  Fault Current [kA]  Trip time [s]\n",
      "0          0          OC   True            2.317906           0.50\n",
      "1          1          OC  False            0.000000            inf\n",
      "2          2          OC  False            0.000000            inf\n",
      "3          3          OC   True            2.317906           1.40\n",
      "4          4          OC   True            2.317906           0.07\n",
      "5          5          OC  False            0.000000            inf\n"
     ]
    }
   ],
   "source": [
    "trip_decisions=oc_protection.run_fault_scenario_oc(net, sc_line_id =4,sc_location = 0.5,\n",
    "                                                   tripping_time_manual=tripping_time_manual)"
   ]
  },
  {
   "cell_type": "markdown",
   "metadata": {},
   "source": [
    "### Varying OC parameters\n",
    "OC fault scenario is capable to set  treshhold triping current for each switches by varying the default values in the following parameters from the default value:\n",
    "\n",
    "- sc_fraction (float, 0.95) : Maximum possible extent to which the short circuit can be created on the line.\n",
    "- overload_factor (float, 1.25):Allowable over loading on the line used to calculate the backup pick up current.\n",
    "- ct_current_factor (float, 1.2): Current mutiplication factor to define the backup pick up current.\n",
    "- safety_factor (float, 1): Safety limit for the instantaneous pick up currents.\n"
   ]
  },
  {
   "cell_type": "code",
   "execution_count": 10,
   "metadata": {},
   "outputs": [
    {
     "name": "stderr",
     "output_type": "stream",
     "text": [
      "Branch results are in beta mode and might not always be reliable, especially for transformers\n",
      "Branch results are in beta mode and might not always be reliable, especially for transformers\n",
      "Branch results are in beta mode and might not always be reliable, especially for transformers\n",
      "Branch results are in beta mode and might not always be reliable, especially for transformers\n",
      "Branch results are in beta mode and might not always be reliable, especially for transformers\n",
      "Branch results are in beta mode and might not always be reliable, especially for transformers\n",
      "Branch results are in beta mode and might not always be reliable, especially for transformers\n"
     ]
    },
    {
     "name": "stdout",
     "output_type": "stream",
     "text": [
      "   Switch ID Switch type   Trip  Fault Current [kA]  Trip time [s]\n",
      "0          0          OC   True            2.317906            1.4\n",
      "1          1          OC  False            0.000000            inf\n",
      "2          2          OC  False            0.000000            inf\n",
      "3          3          OC   True            2.317906            1.1\n",
      "4          4          OC   True            2.317906            0.8\n",
      "5          5          OC  False            0.000000            inf\n"
     ]
    }
   ],
   "source": [
    "trip_decisions=oc_protection.run_fault_scenario_oc(net, sc_line_id =4,sc_location = 0.5,\n",
    "                tripping_time_auto=[0.07,0.5,0.3],sc_fraction=0.9, overload_factor=1.5, ct_current_factor=2,safety_factor=1.5)"
   ]
  },
  {
   "cell_type": "markdown",
   "metadata": {},
   "source": [
    "### Manual tripping current for each switches\n",
    "Instead of varying the OC parametrs, userd can defne pickup current (instantaneous and backup) for each switches in the form of dataframe."
   ]
  },
  {
   "cell_type": "code",
   "execution_count": 12,
   "metadata": {},
   "outputs": [
    {
     "name": "stdout",
     "output_type": "stream",
     "text": [
      "   Switch ID Switch type   Trip  Fault Current [kA]  Trip time [s]\n",
      "0          0          OC   True            2.317906           0.07\n",
      "1          1          OC  False            0.000000            inf\n",
      "2          2          OC  False            0.000000            inf\n",
      "3          3          OC   True            2.317906           1.10\n",
      "4          4          OC   True            2.317906           0.07\n",
      "5          5          OC  False            0.000000            inf\n"
     ]
    }
   ],
   "source": [
    "pickup_current_manual= pd.DataFrame({'switch_id': [0,1,2,3,4,5,6],\n",
    "                              'Igg': [2.2,2.3,2.1,2.5,1.2,0.9,1.7],\n",
    "                              'Ig':[0.8,0.7,0.7,0.8,0.8,0.8,0.9]})\n",
    "\n",
    "trip_decisions=oc_protection.run_fault_scenario_oc(net, sc_line_id =4,sc_location = 0.5,tripping_time_auto=[0.07,0.5,0.3],\n",
    "                                                   pickup_current_manual=pickup_current_manual)"
   ]
  }
 ],
 "metadata": {
  "anaconda-cloud": {},
  "kernelspec": {
   "display_name": "Python 3 (ipykernel)",
   "language": "python",
   "name": "python3"
  },
  "language_info": {
   "codemirror_mode": {
    "name": "ipython",
    "version": 3
   },
   "file_extension": ".py",
   "mimetype": "text/x-python",
   "name": "python",
   "nbconvert_exporter": "python",
   "pygments_lexer": "ipython3",
   "version": "3.9.12"
  }
 },
 "nbformat": 4,
 "nbformat_minor": 1
}
