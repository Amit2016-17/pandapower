{
 "cells": [
  {
   "cell_type": "markdown",
   "metadata": {},
   "source": [
    "# OC-DOC Relay Analysis\n",
    "\n",
    "Pandapower supports running protection scenario analysis using Definite Time OC relay and DOC relays together in radial and meshed networks."
   ]
  },
  {
   "cell_type": "markdown",
   "metadata": {},
   "source": [
    "### Example Network\n",
    "\n",
    "Here is a example for creating a protection scenario using the over current and directional over current relay. First, we create a meshed network with 4 buses and 5 switches. The switch is type defined as 'CB_dir' and CB_non_dir for running protection scenario analysis using over current and directional over current relay\n"
   ]
  },
  {
   "cell_type": "code",
   "execution_count": 2,
   "metadata": {},
   "outputs": [],
   "source": [
    "def oc_doc_relay_net(open_loop=False):\n",
    "    import pandapower as pp\n",
    "    #create an empty network\n",
    "    net = pp.create_empty_network() \n",
    "    # create buses\n",
    "    bus0 = pp.create_bus(net,name = \"Bus_extgrid\", vn_kv = 20, type = \"b\")\n",
    "    bus1 = pp.create_bus(net,name = \"Bus_line1\", vn_kv = 20, type = \"b\")\n",
    "    bus2 = pp.create_bus(net,name = \"Bus_load\", vn_kv = 20, type = \"b\")\n",
    "    bus3 = pp.create_bus(net,name = \"Bus_line2\", vn_kv = 20, type = \"b\")\n",
    "    #external grids\n",
    "    pp.create_ext_grid(net, bus0, vm_pu = 1.0, va_degree = 0, s_sc_max_mva = 100, s_sc_min_mva = 50, rx_max = 0.1, rx_min = 0.1)\n",
    "    \n",
    "    line1 = pp.create_line_from_parameters(net, bus0, bus1, length_km = 5, index = 1, r_ohm_per_km = 0.169,\n",
    "                                           x_ohm_per_km = 0.118438, c_nf_per_km = 273, max_i_ka = 0.361)\n",
    "    line2 = pp.create_line_from_parameters(net, bus1, bus2, length_km = 4, index = 2, r_ohm_per_km = 0.256,\n",
    "                                           x_ohm_per_km = 0.126606, c_nf_per_km = 235, max_i_ka = 0.286)\n",
    "    line3 = pp.create_line_from_parameters(net, bus1, bus3, length_km = 4, index = 3, r_ohm_per_km = 0.256,\n",
    "                                           x_ohm_per_km = 0.126606, c_nf_per_km = 235, max_i_ka = 0.286)\n",
    "    line4 = pp.create_line_from_parameters(net, bus3, bus2, length_km = 0.5, index =4, r_ohm_per_km = 0.256,\n",
    "                                           x_ohm_per_km = 0.126606, c_nf_per_km = 235, max_i_ka = 0.286)\n",
    "    # define short-circuit end temperature of the line\\n\",\n",
    "    net.line[\"endtemp_degree\"] = 250\n",
    "    # create switches\n",
    "    sw1 = pp.create_switch(net, bus0, line1, et=\"l\", type = \"CB_non_dir\", closed = True, index = 0)\n",
    "    sw2 = pp.create_switch(net, bus1, line2, et=\"l\", type = \"CB_non_dir\", closed = True, index = 1)\n",
    "    sw3 = pp.create_switch(net, bus1, line3, et=\"l\", type = \"CB_non_dir\", closed = True, index = 2)    \n",
    "    if open_loop:\n",
    "        sw4 = pp.create_switch(net, bus2, line4, et=\"l\", type = \"CB_dir\", closed = False, index = 3)\n",
    "        sw5 = pp.create_switch(net, bus3, line4, et=\"l\", type = \"CB_dir\", closed = False, index = 4)\n",
    "    else:\n",
    "        sw4 = pp.create_switch(net, bus2, line4, et=\"l\", type = \"CB_dir\", closed = True, index = 3)\n",
    "        sw5 = pp.create_switch(net, bus3, line4, et=\"l\", type = \"CB_dir\", closed = True, index = 4)\n",
    "    # define load\n",
    "    pp.create_load(net, bus2, p_mw = 5, q_mvar= 0, scaling = 1, name=\"load 1\") \n",
    "    # Initialise geo data\n",
    "    net.bus_geodata.loc[0] = None\n",
    "    net.bus_geodata.loc[1] = None\n",
    "    net.bus_geodata.loc[2] = None\n",
    "    net.bus_geodata.loc[3] = None\n",
    "    # Define geo coordinates\n",
    "    net.bus_geodata.x.at[0] = 0\n",
    "    net.bus_geodata.x.at[1] = 0\n",
    "    net.bus_geodata.x.at[2] =-1\n",
    "    net.bus_geodata.x.at[3] =1\n",
    "    net.bus_geodata.y.at[0] =1\n",
    "    net.bus_geodata.y.at[1] =0\n",
    "    net.bus_geodata.y.at[2] =-1\n",
    "    net.bus_geodata.y.at[3] =-1\n",
    "    return net"
   ]
  },
  {
   "cell_type": "markdown",
   "metadata": {},
   "source": [
    "## Import OC and DOC Protection Module\n",
    "\n",
    "Required inputs\n",
    "* 1) net: (pandapowerNet) - Pandapower network with switch type as \"CB_non_dir\" and \"CB_dir\" in net.switch.type\n",
    "* 2) sc_line_idx (int, index): Index of the line to create the short circuit\n",
    "* 3) sc_location (float): Location of short circuit on the on line (between 0 and 1).\n",
    "* 4) timegrade (list, float): Relay tripping time calculated based on topological grid search.\n",
    "    - timegrade =[t_gg, t_g and t_delta]\n",
    "    - t_gg: instantaneous tripping time in seconds,\n",
    "    - t_g:  primary backup tripping time in seconds, \n",
    "    - t_delta: secondary backup tripping time in seconds\n",
    "* 5) relay_configuration (Dict,None): For directional relay, additional informations are needed and given\n",
    "    as dictionary with following inputs\n",
    "           \n",
    "   - relay_configuration = {'Switch_name': [switch_id,'type', 'tripping direction', RCA, OSA]}\n",
    "   - switch_name (str): name of the given switch\n",
    "   - switch_id (int): index of the switch\n",
    "   - type (str): type of the switch (CB_dir or CB_non_dir)\n",
    "   - tripping direction (str): direction of the relay (forward or reverse)\n",
    "   - OSA (float, degree) : Operating Sector Angle is the quadrature angle (ideally 86° to 90°)\n",
    "   - RCA (float, degree) : Relay Characteristics Angle is the angle by which the reference\n",
    "     voltage is adjusted to allow better sensitivity of the directional overcurrent relay\n",
    "\n",
    "\n",
    "Now, we load the network and calculate short circuit at the selected line and location using the run_fault_scenario_oc_doc_function (combinining both run_fault_scenario_oc and run_fault_scenario_doc)"
   ]
  },
  {
   "cell_type": "code",
   "execution_count": 4,
   "metadata": {},
   "outputs": [],
   "source": [
    "#import oc module\n",
    "from pandapower.protection.implementation import oc_relay_model as oc_protection\n",
    "#import doc module\n",
    "from pandapower.protection.implementation import doc_relay_model as doc_protection\n"
   ]
  },
  {
   "cell_type": "code",
   "execution_count": 13,
   "metadata": {},
   "outputs": [],
   "source": [
    "import pandapower.shortcircuit as sc\n",
    "from pandapower.protection.implementation.utility_functions import *\n",
    "\n",
    "def run_fault_scenario_oc_doc(net, sc_line_id, sc_location,relay_configuration,tripping_time_auto=None,\n",
    "                               tripping_time_manual=None,sc_fraction=0.95, overload_factor=1.2,ct_current_factor=1.25,\n",
    "                               safety_factor=1,pickup_current_manual=None):\n",
    "                              \n",
    "    # Get trip decisions from oc relay model\n",
    "    trip_decision_oc,net_sc_doc = oc_protection.run_fault_scenario_oc(net, sc_line_id=sc_line_id, sc_location=sc_location,\n",
    "                            tripping_time_auto=tripping_time_auto,tripping_time_manual=tripping_time_manual,\n",
    "                           sc_fraction= sc_fraction, overload_factor=overload_factor,ct_current_factor=ct_current_factor,\n",
    "                           safety_factor=safety_factor,pickup_current_manual=pickup_current_manual)\n",
    "    \n",
    "    \n",
    "    #Get trip decisions from doc relay model\n",
    "    trip_decision_doc,net_sc_doc=doc_protection.run_fault_scenario_doc(net, sc_line_id=sc_line_id, sc_location=sc_location,\n",
    "                            relay_configuration=relay_configuration,\n",
    "                            tripping_time_auto=tripping_time_auto,tripping_time_manual=tripping_time_manual,\n",
    "                           sc_fraction= sc_fraction, overload_factor=overload_factor,ct_current_factor=ct_current_factor,\n",
    "                           safety_factor=safety_factor,pickup_current_manual=pickup_current_manual)\n",
    "    \n",
    "\n",
    "    # merge two trip decisions\n",
    "    trip_decisions=trip_decision_oc+trip_decision_doc\n",
    "    \n",
    "    # create short circuit for plotting functions\n",
    "    net_sc = create_sc_bus(net, sc_line_id, sc_location)\n",
    "    sc.calc_sc(net_sc, bus=max(net_sc.bus.index), branch_results=True)\n",
    "    \n",
    "    return trip_decisions,net_sc"
   ]
  },
  {
   "cell_type": "code",
   "execution_count": 14,
   "metadata": {
    "scrolled": true
   },
   "outputs": [
    {
     "name": "stdout",
     "output_type": "stream",
     "text": [
      "   Switch ID Switch type  Trip  Fault Current [kA]  Trip time [s]\n",
      "0          0          OC  True            2.289141            1.1\n",
      "1          1          OC  True            1.158036            0.5\n",
      "2          2          OC  True            1.131105            0.8\n",
      "   Switch ID Switch type  Trip  Fault Current [kA]  Trip time [s]\n",
      "0          3         DOC  True            1.158036           0.07\n",
      "1          4         DOC  True            1.131105           0.07\n"
     ]
    }
   ],
   "source": [
    "net=oc_doc_relay_net(open_loop=False)\n",
    "relay_configuration = {\"Switch_4\": [3, \"CB_dir\",\"forward\",86, 45],\"Switch_5\": [4,\"CB_dir\",\"forward\",86,45]}\n",
    "\n",
    "trip_decisions,net_sc= run_fault_scenario_oc_doc(net, sc_line_id=4, sc_location=0.6 ,relay_configuration=relay_configuration,\n",
    "                                tripping_time_auto=[0.07,0.5,0.3],tripping_time_manual=None,\n",
    "                               sc_fraction=0.95, overload_factor=1.2,ct_current_factor=1.25,\n",
    "                               safety_factor=1,pickup_current_manual=None)"
   ]
  },
  {
   "cell_type": "markdown",
   "metadata": {},
   "source": [
    "## Show tripped grid\n",
    "Shows tripped switches, short circuit currents, sc location with repective annotations"
   ]
  },
  {
   "cell_type": "code",
   "execution_count": 16,
   "metadata": {},
   "outputs": [
    {
     "name": "stderr",
     "output_type": "stream",
     "text": [
      "use_bus_geodata is automatically set to True, since net.line_geodata is empty.\n"
     ]
    },
    {
     "data": {
      "image/png": "[encoded data removed]",
      "text/plain": [
       "<Figure size 720x576 with 1 Axes>"
      ]
     },
     "metadata": {},
     "output_type": "display_data"
    }
   ],
   "source": [
    "from pandapower.protection.implementation.utility_functions import plot_tripped_grid\n",
    "plot_tripped_grid(net_sc, trip_decisions,sc_location=0.6,plot_annotations=True)"
   ]
  },
  {
   "cell_type": "markdown",
   "metadata": {},
   "source": [
    "# Create I-t Plot\n",
    "* Plot showing relation between current and time by using trip decisions and switch index using function create_I_t_plot from utility function\n"
   ]
  },
  {
   "cell_type": "code",
   "execution_count": 17,
   "metadata": {},
   "outputs": [
    {
     "data": {
      "image/png": "[encoded data removed]",
      "text/plain": [
       "<Figure size 432x288 with 1 Axes>"
      ]
     },
     "metadata": {
      "needs_background": "light"
     },
     "output_type": "display_data"
    },
    {
     "name": "stderr",
     "output_type": "stream",
     "text": [
      "No artists with labels found to put in legend.  Note that artists whose label start with an underscore are ignored when legend() is called with no argument.\n"
     ]
    }
   ],
   "source": [
    "from pandapower.protection.implementation.utility_functions import create_I_t_plot\n",
    "import matplotlib.pyplot as plt\n",
    "create_I_t_plot(trip_decisions,switch_id=[0])\n",
    "plt.close()"
   ]
  },
  {
   "cell_type": "markdown",
   "metadata": {},
   "source": [
    " Other functionalities are similar to the oc and doc module. Please refer to the OC and DOC tutorials "
   ]
  },
  {
   "cell_type": "code",
   "execution_count": null,
   "metadata": {},
   "outputs": [],
   "source": []
  }
 ],
 "metadata": {
  "anaconda-cloud": {},
  "kernelspec": {
   "display_name": "Python 3 (ipykernel)",
   "language": "python",
   "name": "python3"
  },
  "language_info": {
   "codemirror_mode": {
    "name": "ipython",
    "version": 3
   },
   "file_extension": ".py",
   "mimetype": "text/x-python",
   "name": "python",
   "nbconvert_exporter": "python",
   "pygments_lexer": "ipython3",
   "version": "3.9.12"
  }
 },
 "nbformat": 4,
 "nbformat_minor": 1
}
