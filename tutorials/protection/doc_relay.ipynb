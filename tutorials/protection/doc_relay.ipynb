{
 "cells": [
  {
   "cell_type": "markdown",
   "metadata": {},
   "source": [
    "# Directional Over Current Relay (DOC relay)\n",
    "\n",
    "Pandapower supports running protection scenario using Definite Time Over Current Relay with directional features in radial and meshed networks. It supports both the automated time grading plan based on grid searches and manual tripping times similar to OC relay. "
   ]
  },
  {
   "cell_type": "markdown",
   "metadata": {},
   "source": [
    "### Example Network\n",
    "\n",
    "Here is a example for creating a protection scenario using the directional over current relay . First, we create a meshed network with 4 buses and 5 switches. The switch is type defined as 'CB_dir' for running protection scenario using directional over current relay."
   ]
  },
  {
   "cell_type": "code",
   "execution_count": 1,
   "metadata": {},
   "outputs": [],
   "source": [
    "\n",
    "def doc_relay_net(open_loop = False):\n",
    "    import pandapower as pp\n",
    "    \n",
    "    #create an empty network\n",
    "    net = pp.create_empty_network()\n",
    "    \n",
    "    # define buses\n",
    "    bus0 = pp.create_bus(net,name = \"Bus_extgrid\", vn_kv = 20, type = \"b\")\n",
    "    bus1 = pp.create_bus(net,name = \"Bus_line1\", vn_kv = 20, type = \"b\")\n",
    "    bus2 = pp.create_bus(net,name = \"Bus_load\", vn_kv = 20, type = \"b\")\n",
    "    bus3 = pp.create_bus(net,name = \"Bus_line2\", vn_kv = 20, type = \"b\")\n",
    "    \n",
    "    # external grids\n",
    "    pp.create_ext_grid(net, bus0, vm_pu = 1.0, va_degree = 0, s_sc_max_mva = 100, s_sc_min_mva = 50,\n",
    "                                           rx_max = 0.1, rx_min = 0.1)\n",
    "    # defne lines\n",
    "    line1 = pp.create_line_from_parameters(net, bus0, bus1, length_km = 5, index = 1, r_ohm_per_km = 0.169,\n",
    "                                           x_ohm_per_km = 0.118438, c_nf_per_km = 273, max_i_ka = 0.361)\n",
    "    line2 = pp.create_line_from_parameters(net, bus1, bus2, length_km = 4, index = 2, r_ohm_per_km = 0.256,\n",
    "                                           x_ohm_per_km = 0.126606, c_nf_per_km = 235, max_i_ka = 0.286)\n",
    "    line3 = pp.create_line_from_parameters(net, bus1, bus3, length_km = 4, index = 3, r_ohm_per_km = 0.256,\n",
    "                                           x_ohm_per_km = 0.126606, c_nf_per_km = 235, max_i_ka = 0.286)\n",
    "    line4 = pp.create_line_from_parameters(net, bus3, bus2, length_km = 0.5, index =4, r_ohm_per_km = 0.256,\n",
    "                                           x_ohm_per_km = 0.126606, c_nf_per_km = 235, max_i_ka = 0.286)\n",
    "    \n",
    "    # define short-circuit end temperature of the line\n",
    "    net.line[\"endtemp_degree\"] = 250\n",
    "    \n",
    "    #switches\n",
    "    sw1 = pp.create_switch(net, bus0, line1, et=\"l\", type = \"CB_dir\", closed = True, index = 0)\n",
    "    sw2 = pp.create_switch(net, bus1, line2, et=\"l\", type = \"CB_dir\", closed = True, index = 1)\n",
    "    sw3 = pp.create_switch(net, bus1, line3, et=\"l\", type = \"CB_dir\", closed = True, index = 2)\n",
    "    if open_loop:\n",
    "        sw4 = pp.create_switch(net, bus2, line4, et=\"l\", type = \"CB_dir\", closed = False, index = 3)\n",
    "        sw5 = pp.create_switch(net, bus3, line4, et=\"l\", type = \"CB_dir\", closed = False, index = 4)\n",
    "    else:\n",
    "        sw4 = pp.create_switch(net, bus2, line4, et=\"l\", type = \"CB_dir\", closed = True, index = 3)\n",
    "        sw5 = pp.create_switch(net, bus3, line4, et=\"l\", type = \"CB_dir\", closed = True, index = 4)\n",
    "        \n",
    "    # define load\n",
    "    pp.create_load(net, bus2, p_mw = 5, q_mvar= 0, scaling = 1, name=\"load 1\")\n",
    "    \n",
    "    # initialise geo coordinates\n",
    "    net.bus_geodata.loc[0] = None\n",
    "    net.bus_geodata.loc[1] = None\n",
    "    net.bus_geodata.loc[2] = None\n",
    "    net.bus_geodata.loc[3] = None\n",
    "    \n",
    "    # define geo coordinates for better visualisation in plotting\n",
    "    net.bus_geodata.x.at[0] = 0\n",
    "    net.bus_geodata.x.at[1] = 0\n",
    "    net.bus_geodata.x.at[2] = -1\n",
    "    net.bus_geodata.x.at[3] = 1\n",
    "    net.bus_geodata.y.at[0] = 1\n",
    "    net.bus_geodata.y.at[1] = 0\n",
    "    net.bus_geodata.y.at[2] = -1\n",
    "    net.bus_geodata.y.at[3] = -1\n",
    "    return net"
   ]
  },
  {
   "cell_type": "markdown",
   "metadata": {},
   "source": [
    "## Import DOC Protection Module\n",
    "\n",
    "Required inputs\n",
    "* 1) net: (pandapowerNet) - Pandapower network with switch type as \"CB_non_dir\" in net.switch.type\n",
    "* 2) sc_line_id (int, index): Index of the line to create the short circuit\n",
    "* 3) sc_location (float): Location of short circuit on the on line (between 0 and 1).\n",
    "* 4) tripping_time_auto (list, float) - Relay tripping time calculated based on topological grid search.\n",
    "        - tripping_time_auto =[t_>>, t_>,t_diff]\n",
    "        - t_>>(t_gg): instantaneous tripping time in seconds,\n",
    "        - t_>(t_g):  primary backup tripping time in seconds, \n",
    "        - t_diff: time grading delay difference in seconds\n",
    "* 5) relay_configuration (Dict,None): For directional relay, additional informations are needed and given\n",
    "    as dictionary with following inputs\n",
    "           \n",
    "   - relay_configuration = {'Switch_name': [switch_id,'type', 'tripping direction', RCA, OSA]}\n",
    "   - switch_name (str): name of the given switch\n",
    "   - switch_id (int): index of the switch\n",
    "   - type (str): type of the switch (CB_dir or CB_non_dir)\n",
    "   - tripping direction (str): direction of the relay (forward or reverse)\n",
    "   - OSA (float, degree) : Operating Sector Angle is the quadrature angle (ideally 86° to 90°)\n",
    "   - RCA (float, degree) : Relay Characteristics Angle is the angle by which the reference\n",
    "     voltage is adjusted to allow better sensitivity of the directional overcurrent relay\n",
    "\n",
    "\n",
    "Now, we load the network and calculate short circuit at the selected line and location using the run_fault_scenario_doc function in directional relay:"
   ]
  },
  {
   "cell_type": "code",
   "execution_count": 2,
   "metadata": {},
   "outputs": [
    {
     "name": "stderr",
     "output_type": "stream",
     "text": [
      "C:\\Users\\akumar\\AppData\\Local\\Temp\\ipykernel_8548\\1390001989.py:44: FutureWarning: The default dtype for empty Series will be 'object' instead of 'float64' in a future version. Specify a dtype explicitly to silence this warning.\n",
      "  net.bus_geodata.loc[0] = None\n",
      "C:\\Users\\akumar\\AppData\\Local\\Temp\\ipykernel_8548\\1390001989.py:45: FutureWarning: The default dtype for empty Series will be 'object' instead of 'float64' in a future version. Specify a dtype explicitly to silence this warning.\n",
      "  net.bus_geodata.loc[1] = None\n",
      "C:\\Users\\akumar\\AppData\\Local\\Temp\\ipykernel_8548\\1390001989.py:46: FutureWarning: The default dtype for empty Series will be 'object' instead of 'float64' in a future version. Specify a dtype explicitly to silence this warning.\n",
      "  net.bus_geodata.loc[2] = None\n",
      "C:\\Users\\akumar\\AppData\\Local\\Temp\\ipykernel_8548\\1390001989.py:47: FutureWarning: The default dtype for empty Series will be 'object' instead of 'float64' in a future version. Specify a dtype explicitly to silence this warning.\n",
      "  net.bus_geodata.loc[3] = None\n"
     ]
    }
   ],
   "source": [
    "net = doc_relay_net()\n",
    "from pandapower.protection.implementation import doc_relay_model as doc_protection\n"
   ]
  },
  {
   "cell_type": "markdown",
   "metadata": {},
   "source": [
    "Run fault scenario using directional over current relay (return dataframe with switch ID, type, trip, short circuit current (Ikss), trip time) "
   ]
  },
  {
   "cell_type": "code",
   "execution_count": 3,
   "metadata": {},
   "outputs": [
    {
     "name": "stderr",
     "output_type": "stream",
     "text": [
      "C:\\ProgramData\\Anaconda3\\lib\\site-packages\\pandapower\\protection\\implementation\\utility_functions.py:65: FutureWarning: The default dtype for empty Series will be 'object' instead of 'float64' in a future version. Specify a dtype explicitly to silence this warning.\n",
      "  net.bus_geodata.loc[max_idx_bus+1] = None\n"
     ]
    },
    {
     "ename": "IndexError",
     "evalue": "index 38 is out of bounds for axis 1 with size 38",
     "output_type": "error",
     "traceback": [
      "\u001b[1;31m---------------------------------------------------------------------------\u001b[0m",
      "\u001b[1;31mIndexError\u001b[0m                                Traceback (most recent call last)",
      "Input \u001b[1;32mIn [3]\u001b[0m, in \u001b[0;36m<cell line: 7>\u001b[1;34m()\u001b[0m\n\u001b[0;32m      1\u001b[0m relay_configuration \u001b[38;5;241m=\u001b[39m {\u001b[38;5;124m\"\u001b[39m\u001b[38;5;124msw_1\u001b[39m\u001b[38;5;124m\"\u001b[39m: [\u001b[38;5;241m0\u001b[39m,\u001b[38;5;124m\"\u001b[39m\u001b[38;5;124mCB_dir\u001b[39m\u001b[38;5;124m\"\u001b[39m,\u001b[38;5;124m\"\u001b[39m\u001b[38;5;124mforward\u001b[39m\u001b[38;5;124m\"\u001b[39m,\u001b[38;5;241m86\u001b[39m, \u001b[38;5;241m45\u001b[39m],\n\u001b[0;32m      2\u001b[0m                        \u001b[38;5;124m\"\u001b[39m\u001b[38;5;124msw_2\u001b[39m\u001b[38;5;124m\"\u001b[39m: [\u001b[38;5;241m1\u001b[39m,\u001b[38;5;124m\"\u001b[39m\u001b[38;5;124mCB_dir\u001b[39m\u001b[38;5;124m\"\u001b[39m,\u001b[38;5;124m\"\u001b[39m\u001b[38;5;124mforward\u001b[39m\u001b[38;5;124m\"\u001b[39m,\u001b[38;5;241m86\u001b[39m, \u001b[38;5;241m45\u001b[39m], \n\u001b[0;32m      3\u001b[0m                        \u001b[38;5;124m\"\u001b[39m\u001b[38;5;124msw_3\u001b[39m\u001b[38;5;124m\"\u001b[39m: [\u001b[38;5;241m2\u001b[39m,\u001b[38;5;124m\"\u001b[39m\u001b[38;5;124mCB_dir\u001b[39m\u001b[38;5;124m\"\u001b[39m,\u001b[38;5;124m\"\u001b[39m\u001b[38;5;124mforward\u001b[39m\u001b[38;5;124m\"\u001b[39m,\u001b[38;5;241m86\u001b[39m, \u001b[38;5;241m45\u001b[39m],\n\u001b[0;32m      4\u001b[0m                        \u001b[38;5;124m\"\u001b[39m\u001b[38;5;124msw_4\u001b[39m\u001b[38;5;124m\"\u001b[39m: [\u001b[38;5;241m3\u001b[39m,\u001b[38;5;124m\"\u001b[39m\u001b[38;5;124mCB_dir\u001b[39m\u001b[38;5;124m\"\u001b[39m,\u001b[38;5;124m\"\u001b[39m\u001b[38;5;124mforward\u001b[39m\u001b[38;5;124m\"\u001b[39m,\u001b[38;5;241m86\u001b[39m, \u001b[38;5;241m45\u001b[39m],\n\u001b[0;32m      5\u001b[0m                        \u001b[38;5;124m\"\u001b[39m\u001b[38;5;124msw_5\u001b[39m\u001b[38;5;124m\"\u001b[39m: [\u001b[38;5;241m4\u001b[39m,\u001b[38;5;124m\"\u001b[39m\u001b[38;5;124mCB_dir\u001b[39m\u001b[38;5;124m\"\u001b[39m,\u001b[38;5;124m\"\u001b[39m\u001b[38;5;124mforward\u001b[39m\u001b[38;5;124m\"\u001b[39m,\u001b[38;5;241m86\u001b[39m, \u001b[38;5;241m45\u001b[39m]}\n\u001b[1;32m----> 7\u001b[0m trip_decisions,net_sc \u001b[38;5;241m=\u001b[39m \u001b[43mdoc_protection\u001b[49m\u001b[38;5;241;43m.\u001b[39;49m\u001b[43mrun_fault_scenario_doc\u001b[49m\u001b[43m(\u001b[49m\u001b[43mnet\u001b[49m\u001b[43m,\u001b[49m\u001b[43m \u001b[49m\u001b[43msc_line_id\u001b[49m\u001b[43m \u001b[49m\u001b[38;5;241;43m=\u001b[39;49m\u001b[38;5;241;43m4\u001b[39;49m\u001b[43m,\u001b[49m\u001b[43mrelay_configuration\u001b[49m\u001b[38;5;241;43m=\u001b[39;49m\u001b[43mrelay_configuration\u001b[49m\u001b[43m,\u001b[49m\n\u001b[0;32m      8\u001b[0m \u001b[43m                                        \u001b[49m\u001b[43msc_location\u001b[49m\u001b[43m \u001b[49m\u001b[38;5;241;43m=\u001b[39;49m\u001b[43m \u001b[49m\u001b[38;5;241;43m0.5\u001b[39;49m\u001b[43m,\u001b[49m\u001b[43mtripping_time_auto\u001b[49m\u001b[38;5;241;43m=\u001b[39;49m\u001b[43m[\u001b[49m\u001b[38;5;241;43m0.07\u001b[39;49m\u001b[43m,\u001b[49m\u001b[38;5;241;43m0.5\u001b[39;49m\u001b[43m,\u001b[49m\u001b[38;5;241;43m0.3\u001b[39;49m\u001b[43m]\u001b[49m\u001b[43m)\u001b[49m\n",
      "File \u001b[1;32mC:\\ProgramData\\Anaconda3\\lib\\site-packages\\pandapower\\protection\\implementation\\doc_relay_model.py:261\u001b[0m, in \u001b[0;36mrun_fault_scenario_doc\u001b[1;34m(net, sc_line_id, sc_location, relay_configuration, tripping_time_auto, tripping_time_manual, sc_fraction, overload_factor, ct_current_factor, safety_factor, pickup_current_manual)\u001b[0m\n\u001b[0;32m    258\u001b[0m             settings \u001b[38;5;241m=\u001b[39m doc_parameters(net, switch_id,t_g,t_gg,relay_configuration, sc_fraction,\n\u001b[0;32m    259\u001b[0m                         overload_factor,ct_current_factor, safety_factor, doc_pickup_current_manual)\n\u001b[0;32m    260\u001b[0m         \u001b[38;5;28;01melse\u001b[39;00m:\n\u001b[1;32m--> 261\u001b[0m             settings \u001b[38;5;241m=\u001b[39m \u001b[43mdoc_parameters\u001b[49m\u001b[43m(\u001b[49m\u001b[43mnet\u001b[49m\u001b[43m,\u001b[49m\u001b[43m \u001b[49m\u001b[43mswitch_id\u001b[49m\u001b[43m,\u001b[49m\u001b[43mt_g\u001b[49m\u001b[43m,\u001b[49m\u001b[43mt_gg\u001b[49m\u001b[43m,\u001b[49m\u001b[43mrelay_configuration\u001b[49m\u001b[43m,\u001b[49m\u001b[43m \u001b[49m\u001b[43msc_fraction\u001b[49m\u001b[43m,\u001b[49m\n\u001b[0;32m    262\u001b[0m \u001b[43m                        \u001b[49m\u001b[43moverload_factor\u001b[49m\u001b[43m,\u001b[49m\u001b[43mct_current_factor\u001b[49m\u001b[43m,\u001b[49m\u001b[43m \u001b[49m\u001b[43msafety_factor\u001b[49m\u001b[43m)\u001b[49m\n\u001b[0;32m    263\u001b[0m         doc_relay_settings\u001b[38;5;241m.\u001b[39mappend(settings)\n\u001b[0;32m    265\u001b[0m net_sc \u001b[38;5;241m=\u001b[39m create_sc_bus(net, sc_line_id, sc_location)\n",
      "File \u001b[1;32mC:\\ProgramData\\Anaconda3\\lib\\site-packages\\pandapower\\protection\\implementation\\doc_relay_model.py:47\u001b[0m, in \u001b[0;36mdoc_parameters\u001b[1;34m(net2, switch_id, t_g, t_gg, relay_configuration, sc_fraction, overload_factor, ct_current_factor, safety_factor, doc_pickup_current_manual)\u001b[0m\n\u001b[0;32m     44\u001b[0m \u001b[38;5;28;01mif\u001b[39;00m doc_pickup_current_manual \u001b[38;5;129;01mis\u001b[39;00m \u001b[38;5;28;01mNone\u001b[39;00m:\n\u001b[0;32m     46\u001b[0m     net_sc \u001b[38;5;241m=\u001b[39m create_sc_bus(net, line_idx, sc_fraction)\n\u001b[1;32m---> 47\u001b[0m     \u001b[43msc\u001b[49m\u001b[38;5;241;43m.\u001b[39;49m\u001b[43mcalc_sc\u001b[49m\u001b[43m(\u001b[49m\u001b[43mnet_sc\u001b[49m\u001b[43m,\u001b[49m\u001b[43m \u001b[49m\u001b[43mbus\u001b[49m\u001b[38;5;241;43m=\u001b[39;49m\u001b[38;5;28;43mmax\u001b[39;49m\u001b[43m(\u001b[49m\u001b[43mnet_sc\u001b[49m\u001b[38;5;241;43m.\u001b[39;49m\u001b[43mbus\u001b[49m\u001b[38;5;241;43m.\u001b[39;49m\u001b[43mindex\u001b[49m\u001b[43m)\u001b[49m\u001b[43m,\u001b[49m\u001b[43m \u001b[49m\u001b[43mbranch_results\u001b[49m\u001b[38;5;241;43m=\u001b[39;49m\u001b[38;5;28;43;01mTrue\u001b[39;49;00m\u001b[43m)\u001b[49m\n\u001b[0;32m     49\u001b[0m     \u001b[38;5;66;03m#net.ext_grid['s_sc_max_mva'] = 1000\u001b[39;00m\n\u001b[0;32m     50\u001b[0m     \u001b[38;5;66;03m# I_g and I_gg current treshold calculation\u001b[39;00m\n\u001b[0;32m     51\u001b[0m     I_g \u001b[38;5;241m=\u001b[39m net_sc\u001b[38;5;241m.\u001b[39mline\u001b[38;5;241m.\u001b[39mmax_i_ka\u001b[38;5;241m.\u001b[39mat[line_idx] \u001b[38;5;241m*\u001b[39m overload_factor \u001b[38;5;241m*\u001b[39m ct_current_factor\n",
      "File \u001b[1;32mC:\\ProgramData\\Anaconda3\\lib\\site-packages\\pandapower\\shortcircuit\\calc_sc.py:147\u001b[0m, in \u001b[0;36mcalc_sc\u001b[1;34m(net, bus, fault, case, lv_tol_percent, topology, ip, ith, tk_s, kappa_method, r_fault_ohm, x_fault_ohm, branch_results, check_connectivity, return_all_currents, inverse_y)\u001b[0m\n\u001b[0;32m    144\u001b[0m init_results(net, \u001b[38;5;124m\"\u001b[39m\u001b[38;5;124msc\u001b[39m\u001b[38;5;124m\"\u001b[39m)\n\u001b[0;32m    146\u001b[0m \u001b[38;5;28;01mif\u001b[39;00m fault \u001b[38;5;129;01min\u001b[39;00m (\u001b[38;5;124m\"\u001b[39m\u001b[38;5;124m2ph\u001b[39m\u001b[38;5;124m\"\u001b[39m, \u001b[38;5;124m\"\u001b[39m\u001b[38;5;124m3ph\u001b[39m\u001b[38;5;124m\"\u001b[39m):\n\u001b[1;32m--> 147\u001b[0m     \u001b[43m_calc_sc\u001b[49m\u001b[43m(\u001b[49m\u001b[43mnet\u001b[49m\u001b[43m,\u001b[49m\u001b[43m \u001b[49m\u001b[43mbus\u001b[49m\u001b[43m)\u001b[49m\n\u001b[0;32m    148\u001b[0m \u001b[38;5;28;01melif\u001b[39;00m fault \u001b[38;5;241m==\u001b[39m \u001b[38;5;124m\"\u001b[39m\u001b[38;5;124m1ph\u001b[39m\u001b[38;5;124m\"\u001b[39m:\n\u001b[0;32m    149\u001b[0m     _calc_sc_1ph(net, bus)\n",
      "File \u001b[1;32mC:\\ProgramData\\Anaconda3\\lib\\site-packages\\pandapower\\shortcircuit\\calc_sc.py:198\u001b[0m, in \u001b[0;36m_calc_sc\u001b[1;34m(net, bus)\u001b[0m\n\u001b[0;32m    195\u001b[0m \u001b[38;5;28;01mdef\u001b[39;00m \u001b[38;5;21m_calc_sc\u001b[39m(net, bus):\n\u001b[0;32m    196\u001b[0m     ppc, ppci \u001b[38;5;241m=\u001b[39m _init_ppc(net)\n\u001b[1;32m--> 198\u001b[0m     \u001b[43m_calc_current\u001b[49m\u001b[43m(\u001b[49m\u001b[43mnet\u001b[49m\u001b[43m,\u001b[49m\u001b[43m \u001b[49m\u001b[43mppci\u001b[49m\u001b[43m,\u001b[49m\u001b[43m \u001b[49m\u001b[43mbus\u001b[49m\u001b[43m)\u001b[49m\n\u001b[0;32m    200\u001b[0m     ppc \u001b[38;5;241m=\u001b[39m _copy_results_ppci_to_ppc(ppci, ppc, \u001b[38;5;124m\"\u001b[39m\u001b[38;5;124msc\u001b[39m\u001b[38;5;124m\"\u001b[39m)\n\u001b[0;32m    201\u001b[0m     _extract_results(net, ppc, ppc_0\u001b[38;5;241m=\u001b[39m\u001b[38;5;28;01mNone\u001b[39;00m, bus\u001b[38;5;241m=\u001b[39mbus)\n",
      "File \u001b[1;32mC:\\ProgramData\\Anaconda3\\lib\\site-packages\\pandapower\\shortcircuit\\calc_sc.py:181\u001b[0m, in \u001b[0;36m_calc_current\u001b[1;34m(net, ppci_orig, bus)\u001b[0m\n\u001b[0;32m    178\u001b[0m     this_ppci[\u001b[38;5;124m\"\u001b[39m\u001b[38;5;124minternal\u001b[39m\u001b[38;5;124m\"\u001b[39m][\u001b[38;5;124m\"\u001b[39m\u001b[38;5;124mybus_fact\u001b[39m\u001b[38;5;124m\"\u001b[39m] \u001b[38;5;241m=\u001b[39m factorized(this_ppci[\u001b[38;5;124m\"\u001b[39m\u001b[38;5;124minternal\u001b[39m\u001b[38;5;124m\"\u001b[39m][\u001b[38;5;124m\"\u001b[39m\u001b[38;5;124mYbus\u001b[39m\u001b[38;5;124m\"\u001b[39m])\n\u001b[0;32m    180\u001b[0m _calc_rx(net, this_ppci, this_ppci_bus)\n\u001b[1;32m--> 181\u001b[0m \u001b[43m_calc_ikss\u001b[49m\u001b[43m(\u001b[49m\u001b[43mnet\u001b[49m\u001b[43m,\u001b[49m\u001b[43m \u001b[49m\u001b[43mthis_ppci\u001b[49m\u001b[43m,\u001b[49m\u001b[43m \u001b[49m\u001b[43mthis_ppci_bus\u001b[49m\u001b[43m)\u001b[49m\n\u001b[0;32m    182\u001b[0m _add_kappa_to_ppc(net, this_ppci)\n\u001b[0;32m    183\u001b[0m \u001b[38;5;28;01mif\u001b[39;00m net[\u001b[38;5;124m\"\u001b[39m\u001b[38;5;124m_options\u001b[39m\u001b[38;5;124m\"\u001b[39m][\u001b[38;5;124m\"\u001b[39m\u001b[38;5;124mip\u001b[39m\u001b[38;5;124m\"\u001b[39m]:\n",
      "File \u001b[1;32mC:\\ProgramData\\Anaconda3\\lib\\site-packages\\pandapower\\shortcircuit\\currents.py:38\u001b[0m, in \u001b[0;36m_calc_ikss\u001b[1;34m(net, ppci, bus_idx)\u001b[0m\n\u001b[0;32m     36\u001b[0m \u001b[38;5;28;01mif\u001b[39;00m fault \u001b[38;5;241m==\u001b[39m \u001b[38;5;124m\"\u001b[39m\u001b[38;5;124m3ph\u001b[39m\u001b[38;5;124m\"\u001b[39m:\n\u001b[0;32m     37\u001b[0m     ppci[\u001b[38;5;124m\"\u001b[39m\u001b[38;5;124mbus\u001b[39m\u001b[38;5;124m\"\u001b[39m][bus_idx, IKSS1] \u001b[38;5;241m=\u001b[39m \u001b[38;5;28mabs\u001b[39m(c \u001b[38;5;241m/\u001b[39m z_equiv \u001b[38;5;241m/\u001b[39m ppci[\u001b[38;5;124m\"\u001b[39m\u001b[38;5;124mbus\u001b[39m\u001b[38;5;124m\"\u001b[39m][bus_idx, BASE_KV] \u001b[38;5;241m/\u001b[39m np\u001b[38;5;241m.\u001b[39msqrt(\u001b[38;5;241m3\u001b[39m) \u001b[38;5;241m*\u001b[39m ppci[\u001b[38;5;124m\"\u001b[39m\u001b[38;5;124mbaseMVA\u001b[39m\u001b[38;5;124m\"\u001b[39m]) \u001b[38;5;66;03m# added abs\u001b[39;00m\n\u001b[1;32m---> 38\u001b[0m     ppci[\u001b[38;5;124m\"\u001b[39m\u001b[38;5;124mbus\u001b[39m\u001b[38;5;124m\"\u001b[39m][bus_idx, PHI_IKSS1] \u001b[38;5;241m=\u001b[39m np\u001b[38;5;241m.\u001b[39mangle(c \u001b[38;5;241m/\u001b[39m z_equiv \u001b[38;5;241m/\u001b[39m ppci[\u001b[38;5;124m\"\u001b[39m\u001b[38;5;124mbus\u001b[39m\u001b[38;5;124m\"\u001b[39m][bus_idx, BASE_KV] \u001b[38;5;241m/\u001b[39m np\u001b[38;5;241m.\u001b[39msqrt(\u001b[38;5;241m3\u001b[39m) \u001b[38;5;241m*\u001b[39m ppci[\u001b[38;5;124m\"\u001b[39m\u001b[38;5;124mbaseMVA\u001b[39m\u001b[38;5;124m\"\u001b[39m], deg \u001b[38;5;241m=\u001b[39m \u001b[38;5;28;01mTrue\u001b[39;00m) \u001b[38;5;66;03m# added angle calculation\u001b[39;00m\n\u001b[0;32m     39\u001b[0m \u001b[38;5;28;01melif\u001b[39;00m fault \u001b[38;5;241m==\u001b[39m \u001b[38;5;124m\"\u001b[39m\u001b[38;5;124m2ph\u001b[39m\u001b[38;5;124m\"\u001b[39m:\n\u001b[0;32m     40\u001b[0m     ppci[\u001b[38;5;124m\"\u001b[39m\u001b[38;5;124mbus\u001b[39m\u001b[38;5;124m\"\u001b[39m][bus_idx, IKSS1] \u001b[38;5;241m=\u001b[39m c \u001b[38;5;241m/\u001b[39m z_equiv \u001b[38;5;241m/\u001b[39m ppci[\u001b[38;5;124m\"\u001b[39m\u001b[38;5;124mbus\u001b[39m\u001b[38;5;124m\"\u001b[39m][bus_idx, BASE_KV] \u001b[38;5;241m/\u001b[39m \u001b[38;5;241m2\u001b[39m \u001b[38;5;241m*\u001b[39m ppci[\u001b[38;5;124m\"\u001b[39m\u001b[38;5;124mbaseMVA\u001b[39m\u001b[38;5;124m\"\u001b[39m]\n",
      "\u001b[1;31mIndexError\u001b[0m: index 38 is out of bounds for axis 1 with size 38"
     ]
    }
   ],
   "source": [
    " \n",
    "relay_configuration = {\"sw_1\": [0,\"CB_dir\",\"forward\",86, 45],\n",
    "                       \"sw_2\": [1,\"CB_dir\",\"forward\",86, 45], \n",
    "                       \"sw_3\": [2,\"CB_dir\",\"forward\",86, 45],\n",
    "                       \"sw_4\": [3,\"CB_dir\",\"forward\",86, 45],\n",
    "                       \"sw_5\": [4,\"CB_dir\",\"forward\",86, 45]}\n",
    "\n",
    "trip_decisions,net_sc = doc_protection.run_fault_scenario_doc(net, sc_line_id =4,relay_configuration=relay_configuration,\n",
    "                                        sc_location = 0.5,tripping_time_auto=[0.07,0.5,0.3])\n"
   ]
  },
  {
   "cell_type": "markdown",
   "metadata": {},
   "source": [
    "# Show trip decisions\n",
    "The function run fault scenario returns list of dictionaries with tripping decisons of each switches in the network.\n",
    "- switch index : Index number of the switch (here every switches are accessed using their index)\n",
    "- switch type : Type of switch in the network (DOC- directional over current switch)\n",
    "- Trip: Trip is true or false\n",
    "- Fault current:  Maximum short circuit current at the relay location (minimum short circuit can also be specifies, please   refer short circuit in pandapower documentation.\n",
    "- Igg:Instantaneous tripping current in Ampere (A)\n",
    "- Ig: Backup tripping current in Ampere (A)\n",
    "- MTA: Maximum Torque Angle of each relay (OSA-RCA)\n",
    "- vi_angle: Angle between volatage and current under short circuit (with reference to volatage)\n",
    "- Relay direction: Direction of biasing of switch (forward or reverse)\n",
    "- Zone: Operating zone (based on MTA and vi angle)\n",
    "- Trip Type: Tripping only happen if relay direction and operating zone are the same, else No trip\n",
    "    -Instantaneous trip if fault current >=Igg \n",
    "    -Backup  fault current >=Ig and less than Igg\n",
    "    -No trip fault current less tha Igg and Ig\n",
    "    \n",
    "- Tripping time : Tripping time of the respective switch\n",
    "- tg: backup tripping time calculated based on the time grading plan\n",
    "- tgg: Instantaneous tripping time based on the input\n",
    "\n",
    "Trip decisons of each switches can be shown by indexing the respective switch id"
   ]
  },
  {
   "cell_type": "code",
   "execution_count": null,
   "metadata": {},
   "outputs": [],
   "source": [
    "# show the trip decisions\n",
    "trip_decisions"
   ]
  },
  {
   "cell_type": "code",
   "execution_count": null,
   "metadata": {},
   "outputs": [],
   "source": [
    "# print short circuit net\n",
    "print(net_sc)"
   ]
  },
  {
   "cell_type": "markdown",
   "metadata": {},
   "source": [
    "## Show tripped grid\n",
    "Shows tripped switches, short circuit currents, sc location with repective annotations"
   ]
  },
  {
   "cell_type": "code",
   "execution_count": null,
   "metadata": {},
   "outputs": [],
   "source": [
    "from pandaplan.core.protection.implementation.utility_functions import plot_tripped_grid\n",
    "plot_tripped_grid(net_sc, trip_decisions,sc_location=0.5,plot_annotations=True)"
   ]
  },
  {
   "cell_type": "markdown",
   "metadata": {},
   "source": [
    "# Create I-t Plot\n",
    "* Plot showing relation between current and time by using trip decisions and switch index using function create_I_t_plot from utility function\n"
   ]
  },
  {
   "cell_type": "code",
   "execution_count": null,
   "metadata": {},
   "outputs": [],
   "source": [
    "from pandapower.protection.implementation.utility_functions import create_I_t_plot\n",
    "import matplotlib.pyplot as plt\n",
    "create_I_t_plot(trip_decisions,switch_id=[0])\n",
    "plt.close()"
   ]
  },
  {
   "cell_type": "markdown",
   "metadata": {},
   "source": [
    "# Additional features "
   ]
  },
  {
   "cell_type": "markdown",
   "metadata": {},
   "source": [
    "### Manual tripping time for each switches\n",
    "doc fault scenario is capable to provide manual triiping time for each switches in the form a dataframe (replace tripping_time_auto by tripping_time_manual)\n"
   ]
  },
  {
   "cell_type": "code",
   "execution_count": null,
   "metadata": {},
   "outputs": [],
   "source": [
    "import pandas as pd\n",
    "tripping_time_manual= pd.DataFrame({'switch_id': [0,1,2,3,4,5,6],\n",
    "                              't_gg': [0.07,0.07,0.07,0.07,0.07,0.07,0.06],\n",
    "                              't_g':[0.5,0.8,1.1,1.4,1.7,2.0,2.3]})\n"
   ]
  },
  {
   "cell_type": "code",
   "execution_count": null,
   "metadata": {},
   "outputs": [],
   "source": [
    "trip_decisions=doc_protection.run_fault_scenario_doc(net, sc_line_id =4,sc_location = 0.5,\n",
    "                                         tripping_time_manual=tripping_time_manual,relay_configuration=relay_configuration)"
   ]
  },
  {
   "cell_type": "markdown",
   "metadata": {},
   "source": [
    "### Varying DOC parameters\n",
    "DOC fault scenario is capable to set  treshhold triping current for each switches by varying the default values in the following parameters from the default value\n",
    " - sc_fraction (float, 0.95) : Maximum possible extent to which the short circuit can be created on the line\n",
    " - overload_factor (float, 1.25):Allowable over loading on the line used to calculate the backup pick up current\n",
    " - ct_current_factor (float, 1.2): Current mutiplication factor to define the backup pick up current\n",
    " - safety_factor (float, 1): Safety limit for the instantaneous pick up currents\n"
   ]
  },
  {
   "cell_type": "code",
   "execution_count": null,
   "metadata": {},
   "outputs": [],
   "source": [
    "trip_decisions=doc_protection.run_fault_scenario_doc(net, sc_line_id =4,sc_location = 0.5,\n",
    "                tripping_time_auto=[0.07,0.5,0.3],sc_fraction=0.9,relay_configuration=relay_configuration,overload_factor=1.5,\n",
    "                    ct_current_factor=2,safety_factor=1.5)"
   ]
  },
  {
   "cell_type": "markdown",
   "metadata": {},
   "source": [
    "### Manual tripping current for each switches\n",
    "Instead of varying the OC parametrs, users can defne pickup current for each switches in the form of dataframe\n"
   ]
  },
  {
   "cell_type": "code",
   "execution_count": null,
   "metadata": {},
   "outputs": [],
   "source": [
    "pickup_current_manual= pd.DataFrame({'switch_id': [0,1,2,3,4,5,6],\n",
    "                              'Igg': [2.2,2.3,2.1,2.5,1.2,0.9,1.7],\n",
    "                              'Ig':[0.8,0.7,0.7,0.8,0.8,0.8,0.9]})\n",
    "\n",
    "trip_decisions=doc_protection.run_fault_scenario_doc(net,sc_line_id =4,sc_location=0.5,relay_configuration=relay_configuration,\n",
    "                                         tripping_time_auto=[0.07,0.5,0.3],pickup_current_manual=pickup_current_manual)"
   ]
  },
  {
   "cell_type": "code",
   "execution_count": null,
   "metadata": {},
   "outputs": [],
   "source": []
  }
 ],
 "metadata": {
  "anaconda-cloud": {},
  "kernelspec": {
   "display_name": "Python 3 (ipykernel)",
   "language": "python",
   "name": "python3"
  },
  "language_info": {
   "codemirror_mode": {
    "name": "ipython",
    "version": 3
   },
   "file_extension": ".py",
   "mimetype": "text/x-python",
   "name": "python",
   "nbconvert_exporter": "python",
   "pygments_lexer": "ipython3",
   "version": "3.9.12"
  }
 },
 "nbformat": 4,
 "nbformat_minor": 1
}
